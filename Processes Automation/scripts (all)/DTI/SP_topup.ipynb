{
 "cells": [
  {
   "cell_type": "markdown",
   "metadata": {},
   "source": [
    "### TOPUP "
   ]
  },
  {
   "cell_type": "markdown",
   "metadata": {},
   "source": [
    "1. acceder al arbol de directorio\n",
    "2. recuperar los datos que son importantes: echotime totalreadtime (acqparameters.txt)\n",
    "3. coger solo la primera imagen B0\n",
    "4. brain mask\n",
    "5. subprocess"
   ]
  },
  {
   "cell_type": "code",
   "execution_count": 1,
   "metadata": {},
   "outputs": [
    {
     "name": "stdout",
     "output_type": "stream",
     "text": [
      "200219-15:28:11,745 nipype.utils INFO:\n",
      "\t No new version available.\n"
     ]
    }
   ],
   "source": [
    "import os\n",
    "import nipype\n",
    "import json\n",
    "from pathlib import Path"
   ]
  },
  {
   "cell_type": "code",
   "execution_count": 3,
   "metadata": {},
   "outputs": [],
   "source": [
    "#path=\"C:\\Users\\viole\\Desktop\\TFG\\SENECA-PICASO\""
   ]
  },
  {
   "cell_type": "code",
   "execution_count": 4,
   "metadata": {},
   "outputs": [],
   "source": [
    "#camino = Path(main+'Documentos/archivos_texto/')"
   ]
  },
  {
   "cell_type": "code",
   "execution_count": 5,
   "metadata": {},
   "outputs": [],
   "source": [
    "sep=os.path.sep\n",
    "main= sep+'Volumes'+sep+'HDD1'+sep+'INVESTIGACION'+sep+'SENECA-PICASSO'"
   ]
  },
  {
   "cell_type": "code",
   "execution_count": 6,
   "metadata": {},
   "outputs": [],
   "source": [
    "rootDir=main+sep+'nifti'+sep+'sub-sp01'+sep+'ses-02'+sep+'func'+sep+'sub-sp01'+sep+'ses-02_task-rest_bold.json'\n",
    "\n",
    "for dirName, subdirList, fileList in os.walk(rootDir, topdown=False):\n",
    "    print('hola')\n",
    "    print('Found directory: %s' % fileList)\n"
   ]
  },
  {
   "cell_type": "code",
   "execution_count": 7,
   "metadata": {},
   "outputs": [
    {
     "data": {
      "text/plain": [
       "False"
      ]
     },
     "execution_count": 7,
     "metadata": {},
     "output_type": "execute_result"
    }
   ],
   "source": [
    "\n",
    "os.access(\"nifti\", os.R_OK) "
   ]
  },
  {
   "cell_type": "markdown",
   "metadata": {},
   "source": [
    "1. Read the json files "
   ]
  },
  {
   "cell_type": "code",
   "execution_count": 60,
   "metadata": {},
   "outputs": [],
   "source": [
    "file=main+sep+'nifti'+sep+'sub-sp01'+sep+'ses-02'+sep+'fmap'+sep+'sub-sp01ses-02_acq-dwi_dir-1_epi.json'"
   ]
  },
  {
   "cell_type": "code",
   "execution_count": 61,
   "metadata": {},
   "outputs": [
    {
     "name": "stdout",
     "output_type": "stream",
     "text": [
      "0.0007 128 j-\n"
     ]
    }
   ],
   "source": [
    "with open(file) as json_file:\n",
    "    data = json.load(json_file)\n",
    "    EES=data[\"EffectiveEchoSpacing\"]\n",
    "    AdqMatPE=data[\"AcquisitionMatrixPE\"]\n",
    "    PhaseDir=data[\"PhaseEncodingDirection\"]\n",
    "    print(EES, AdqMatPE, PhaseDir)\n"
   ]
  },
  {
   "cell_type": "markdown",
   "metadata": {},
   "source": [
    "2. Calculate TotalReadOutTime"
   ]
  },
  {
   "cell_type": "code",
   "execution_count": 62,
   "metadata": {},
   "outputs": [],
   "source": [
    "ReadOut= 0.5*EES*(AdqMatPE-1)"
   ]
  },
  {
   "cell_type": "code",
   "execution_count": 63,
   "metadata": {},
   "outputs": [
    {
     "data": {
      "text/plain": [
       "0.044449999999999996"
      ]
     },
     "execution_count": 63,
     "metadata": {},
     "output_type": "execute_result"
    }
   ],
   "source": [
    "ReadOut"
   ]
  },
  {
   "cell_type": "markdown",
   "metadata": {},
   "source": [
    "3. Creat acqparameters.txt"
   ]
  },
  {
   "cell_type": "code",
   "execution_count": 69,
   "metadata": {},
   "outputs": [],
   "source": [
    "string=PhaseDir\n",
    "f= open(os.path.join(main,\"acqparameters.txt\"),\"w+\")\n",
    "f.write(string.replace('j-', '0 -1 0 ').replace('j','0 1 0 ')+str(ReadOut)) \n",
    "f.close()"
   ]
  },
  {
   "cell_type": "markdown",
   "metadata": {},
   "source": [
    "4. Make comandos "
   ]
  },
  {
   "cell_type": "code",
   "execution_count": 13,
   "metadata": {},
   "outputs": [],
   "source": [
    "#fslroi sub-sp01ses-02_dir-AP_dwi.nii nodif 0 1\n",
    "#sub-sp01ses-02_dir-AP_dwi.nii"
   ]
  },
  {
   "cell_type": "code",
   "execution_count": 30,
   "metadata": {},
   "outputs": [
    {
     "data": {
      "text/plain": [
       "<nipype.interfaces.base.support.InterfaceResult at 0x11eb6f0d0>"
      ]
     },
     "execution_count": 30,
     "metadata": {},
     "output_type": "execute_result"
    }
   ],
   "source": [
    "from nipype.interfaces.fsl import ExtractROI\n",
    "dwidata=main+sep+'nifti'+sep+'sub-sp01'+sep+'ses-02'+sep+'dwi'+sep+'sub-sp01ses-02_dir-AP_dwi.nii'\n",
    "root=main+sep+'nifti'+sep+'sub-sp01'+sep+'ses-02'+sep+'dwi'+sep\n",
    "fslroi = ExtractROI(in_file=dwidata, roi_file=main+sep+'nifti'+sep+'sub-sp01'+sep+'ses-02'+sep+'dwi'+sep+'nodif.nii.gz', t_min=0,t_size=1)\n",
    "fslroi.cmdline #== 'fslroi %s nodif.nii 0 1' % dwidata\n",
    "fslroi.run()"
   ]
  },
  {
   "cell_type": "code",
   "execution_count": 31,
   "metadata": {},
   "outputs": [
    {
     "data": {
      "text/plain": [
       "<nipype.interfaces.base.support.InterfaceResult at 0x11e966310>"
      ]
     },
     "execution_count": 31,
     "metadata": {},
     "output_type": "execute_result"
    }
   ],
   "source": [
    "from nipype.interfaces.fsl import ExtractROI\n",
    "dwidata=main+sep+'nifti'+sep+'sub-sp01'+sep+'ses-02'+sep+'dwi'+sep+'sub-sp01ses-02_dir-AP_dwi.nii'\n",
    "root=main+sep+'nifti'+sep+'sub-sp01'+sep+'ses-02'+sep+'dwi'+sep\n",
    "fslroi = ExtractROI(in_file=dwidata, roi_file=main+sep+'nifti'+sep+'sub-sp01'+sep+'ses-02'+sep+'func'+sep+'nodif_PA.nii.gz',t_min=0,t_size=1)\n",
    "fslroi.cmdline #== 'fslroi %s nodif.nii 0 1' % dwidata\n",
    "fslroi.run()"
   ]
  },
  {
   "cell_type": "code",
   "execution_count": 21,
   "metadata": {},
   "outputs": [],
   "source": [
    "#fls merge  -t AP_PA_b0 nodif nodif_PA\n",
    "#C:\\Users\\viole\\Desktop\\TFG\\SENECA-PICASO\\nifti\\nifti\\sub-sp01\\ses-02"
   ]
  },
  {
   "cell_type": "code",
   "execution_count": 49,
   "metadata": {},
   "outputs": [],
   "source": [
    "root=main+sep+'nifti'+sep+'sub-sp01'+sep+'ses-02'\n",
    "import subprocess"
   ]
  },
  {
   "cell_type": "code",
   "execution_count": 33,
   "metadata": {},
   "outputs": [],
   "source": [
    "from nipype.interfaces.fsl import Merge\n",
    "merger = Merge()\n",
    "merger.inputs.in_files = [root+sep+'dwi'+sep+'nodif.nii.gz', root+sep+'func'+sep+'nodif_PA.nii.gz']\n",
    "merger.inputs.dimension = 't'\n",
    "merger.inputs.output_type = 'NIFTI_GZ'\n",
    "merger.cmdline\n",
    "#'fslmerge -t functional2_merged.nii.gz functional2.nii functional3.nii'\n",
    "#merger.inputs.tr = 2.25\n",
    "#merger.cmdline\n",
    "#'fslmerge -tr functional2_merged.nii.gz functional2.nii functional3.nii 2.25'\n",
    "res=merger.run()"
   ]
  },
  {
   "cell_type": "code",
   "execution_count": 34,
   "metadata": {},
   "outputs": [
    {
     "data": {
      "text/plain": [
       "'NIFTI_GZ'"
      ]
     },
     "execution_count": 34,
     "metadata": {},
     "output_type": "execute_result"
    }
   ],
   "source": [
    "from nipype.interfaces.fsl import Info\n",
    "Info.version()\n",
    "Info.output_type()"
   ]
  },
  {
   "cell_type": "code",
   "execution_count": 35,
   "metadata": {},
   "outputs": [],
   "source": [
    "#topup --imain=AP_PA_b0 --datain=acqparams.txt --config=b02b0.cnf --out=topup_AP_PA_b0\n",
    "#imain=AP_PA_b0.nii.gz\n",
    "#datain=acqparams.txt\n",
    "#config=b02b0.cnf(?)\n",
    "#out=topup_AP_PA_b0"
   ]
  },
  {
   "cell_type": "code",
   "execution_count": 51,
   "metadata": {},
   "outputs": [
    {
     "data": {
      "text/plain": [
       "'/Volumes/HDD1/INVESTIGACION/SENECA-PICASSO'"
      ]
     },
     "execution_count": 51,
     "metadata": {},
     "output_type": "execute_result"
    }
   ],
   "source": [
    "main"
   ]
  },
  {
   "cell_type": "code",
   "execution_count": null,
   "metadata": {},
   "outputs": [],
   "source": []
  },
  {
   "cell_type": "code",
   "execution_count": 57,
   "metadata": {},
   "outputs": [],
   "source": [
    "from nipype.interfaces.fsl import TOPUP\n",
    "imain=main+sep+'nifti'+sep+'sub-sp01'+sep+'ses-02'+sep+'nodif_merged.nii.gz'\n",
    "params=main+sep+'nifti'+sep+'sub-sp01'+sep+'ses-02'+sep+'acqparams.txt'\n",
    "topup = TOPUP()\n",
    "topup.inputs.in_file = imain\n",
    "topup.inputs.encoding_file = params\n",
    "topup.inputs.output_type = \"NIFTI_GZ\"\n",
    "topup.cmdline \n",
    "#'topup --config=b02b0.cnf --datain=topup_encoding.txt --imain=b0_b0rev.nii --out=b0_b0rev_base --iout=b0_b0rev_corrected.nii.gz --fout=b0_b0rev_field.nii.gz --logout=b0_b0rev_topup.log'\n",
    "res = topup.run() "
   ]
  },
  {
   "cell_type": "markdown",
   "metadata": {},
   "source": [
    "----"
   ]
  },
  {
   "cell_type": "code",
   "execution_count": null,
   "metadata": {},
   "outputs": [],
   "source": [
    "from nipype.interfaces.fsl import ApplyTOPUP\n",
    "applytopup = ApplyTOPUP()\n",
    "imain_up  = main+sep+'nifti'+sep+'nifti'+sep+'sub-sp01'+sep+'ses-02'+sep+'dwi'+sep+'sub-sp01ses-02_dir-AP_dwi.nii'\n",
    "imain_down= main+sep+'nifti'+sep+'nifti'+sep+'sub-sp01'+sep+'ses-02'+sep+'func'+sep+'ses-02_task-rest_bold.nii'\n",
    "params='Users'+sep+'administrator'+sep+'Downloads'\n",
    "applytopup.inputs.in_files = [imain_up,imain_down]\n",
    "applytopup.inputs.encoding_file = params+sep+'topup_encoding.txt'\n",
    "applytopup.inputs.in_topup_fieldcoef = params+sep+\"topup_fieldcoef.nii.gz\"#de donde ha salido\n",
    "applytopup.inputs.in_topup_movpar = params+sep+\"topup_movpar.txt\"#de donde ha salido\n",
    "applytopup.inputs.output_type = \"NIFTI_GZ\"\n",
    "applytopup.cmdline \n",
    "res = applytopup.run() "
   ]
  },
  {
   "cell_type": "code",
   "execution_count": null,
   "metadata": {},
   "outputs": [],
   "source": []
  }
 ],
 "metadata": {
  "kernelspec": {
   "display_name": "Python 3",
   "language": "python",
   "name": "python3"
  },
  "language_info": {
   "codemirror_mode": {
    "name": "ipython",
    "version": 3
   },
   "file_extension": ".py",
   "mimetype": "text/x-python",
   "name": "python",
   "nbconvert_exporter": "python",
   "pygments_lexer": "ipython3",
   "version": "3.7.6"
  }
 },
 "nbformat": 4,
 "nbformat_minor": 2
}
