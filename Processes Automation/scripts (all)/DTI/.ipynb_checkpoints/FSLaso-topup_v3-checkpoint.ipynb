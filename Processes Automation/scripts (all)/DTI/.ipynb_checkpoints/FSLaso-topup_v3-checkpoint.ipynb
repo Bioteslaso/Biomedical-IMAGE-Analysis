{
 "cells": [
  {
   "cell_type": "markdown",
   "metadata": {},
   "source": [
    "By: Violeta, Helena, Javier y Laso\n",
    "\n",
    "---"
   ]
  },
  {
   "cell_type": "code",
   "execution_count": 1,
   "metadata": {},
   "outputs": [
    {
     "name": "stdout",
     "output_type": "stream",
     "text": [
      "200225-09:30:38,302 nipype.utils INFO:\n",
      "\t No new version available.\n"
     ]
    }
   ],
   "source": [
    "import nipype.interfaces.spm as spm         # the spm interfaces\n",
    "import nipype.pipeline.engine as pe         # the workflow and node wrappers\n",
    "import nipype.interfaces.io as nio   \n",
    "import nipype.pipeline.engine as pe\n",
    "from nipype import Node, JoinNode, Workflow\n",
    "from nipype.interfaces.utility import IdentityInterface\n",
    "from nipype.interfaces.utility import Merge"
   ]
  },
  {
   "cell_type": "code",
   "execution_count": 2,
   "metadata": {},
   "outputs": [],
   "source": [
    "import fnmatch\n",
    "from nipype.interfaces.fsl import ExtractROI\n",
    "from nipype.interfaces import fsl\n",
    "from nipype.testing import example_data\n",
    "from nipype.interfaces import fsl\n",
    "from nipype.testing import example_data\n",
    "from nipype.interfaces.fsl import Merge as Merge_fsl\n",
    "from nipype.interfaces.fsl import TOPUP\n",
    "from nipype.interfaces.fsl import ApplyTOPUP\n",
    "from nipype.interfaces import fsl\n",
    "from nipype.interfaces.fsl import Eddy\n",
    "import shutil\n",
    "import os\n",
    "sep=os.path.sep\n",
    "import json\n",
    "from datetime import datetime\n",
    "\n",
    "main= sep+'Users'+sep+'administrator'+sep+'Documents'+sep+'nifti' "
   ]
  },
  {
   "cell_type": "code",
   "execution_count": 3,
   "metadata": {},
   "outputs": [],
   "source": [
    "dti = pe.Workflow(name='dti')\n",
    "dti.base_dir = '.'"
   ]
  },
  {
   "cell_type": "code",
   "execution_count": 4,
   "metadata": {},
   "outputs": [],
   "source": [
    "sb='sub-sp01'\n",
    "ses='ses-02'\n",
    "\n",
    "roi1 = pe.Node(interface=ExtractROI(t_min=0,t_size=1), name='roi1')\n",
    "roi1.inputs.in_file=main+sep+sb+sep+ses+sep+'dwi'+sep+sb+ses+'_dir-AP_dwi.nii'\n",
    "roi1.inputs.roi_file= main+sep+sb+sep+ses+sep+'dwi'+sep+'nodif_'+sb+ses+'-dwi.nii.gz'"
   ]
  },
  {
   "cell_type": "code",
   "execution_count": 5,
   "metadata": {},
   "outputs": [],
   "source": [
    "roi2 = pe.Node(interface=ExtractROI(t_min=0,t_size=1), name='roi2')\n",
    "roi2.inputs.in_file=main+sep+sb+sep+ses+sep+'fmap'+sep+sb+ses+'_acq-dwi_dir-1_epi.nii'\n",
    "roi2.inputs.roi_file= main+sep+sb+sep+ses+sep+'fmap'+sep+'nodif_'+sb+ses+'-fmap.nii.gz'"
   ]
  },
  {
   "cell_type": "code",
   "execution_count": 6,
   "metadata": {},
   "outputs": [],
   "source": [
    "flirt = pe.Node(interface=fsl.FLIRT(bins=640, cost_func='mutualinfo'), name='flirt')\n",
    "#flirt.inputs.in_file = main+sep+sb+sep+ses+sep+'dwi'+sep+'nodif_'+sb+ses+'-dwi.nii.gz'\n",
    "#flirt.inputs.reference = main+sep+sb+sep+ses+sep+'dwi'+sep+'nodif_'+sb+ses+'-dwi.nii.gz'\n",
    "flirt.inputs.output_type = \"NIFTI_GZ\""
   ]
  },
  {
   "cell_type": "code",
   "execution_count": 7,
   "metadata": {},
   "outputs": [],
   "source": [
    "#dti.connect(roi1, 'roi_file', flirt, 'in_file')\n",
    "dti.connect([(roi2, flirt, [(('roi_file'),\n",
    "                            'in_file')]),])"
   ]
  },
  {
   "cell_type": "code",
   "execution_count": 8,
   "metadata": {},
   "outputs": [],
   "source": [
    "#dti.connect(roi1, 'roi_file', flirt, 'in_file')\n",
    "dti.connect([(roi1, flirt, [(('roi_file'),\n",
    "                            'reference')]),])"
   ]
  },
  {
   "cell_type": "code",
   "execution_count": 9,
   "metadata": {},
   "outputs": [],
   "source": [
    "from nipype.interfaces.utility import Merge as Merge_other\n",
    "mi = pe.Node(interface=Merge_other(2), name='mi')\n",
    "dti.connect(roi1,'roi_file',mi,'in1')\n",
    "dti.connect(flirt,'out_file',mi,'in2')"
   ]
  },
  {
   "cell_type": "code",
   "execution_count": 10,
   "metadata": {},
   "outputs": [],
   "source": [
    "merg= pe.Node(interface=Merge_fsl(), name='merg')\n",
    "dti.connect(mi,'out',merg,'in_files')\n",
    "merg.inputs.dimension = 't'\n",
    "merg.inputs.output_type = 'NIFTI_GZ'"
   ]
  },
  {
   "cell_type": "code",
   "execution_count": 11,
   "metadata": {},
   "outputs": [],
   "source": [
    "def json_params(files,save_dir,name,ckpt=0):\n",
    "    texts=[]\n",
    "    for file in files:\n",
    "        with open(file) as f:\n",
    "            d = json.load(f)\n",
    "            AT=(d['AcquisitionMatrixPE'])\n",
    "            ES=d['EffectiveEchoSpacing']\n",
    "            j_direction=d['PhaseEncodingDirection']\n",
    "            ReadOut_Time =AT*ES*0.5\n",
    "            text= j_direction.replace('j-','0 -1 0 ').replace('j','0 1 0 ').replace('i-','-1 0 0 ').replace('i','1 0 0 ').replace('k-','0 0 -1 ').replace('k','0 0 1')+ str(ReadOut_Time)\n",
    "            texts.append(text)\n",
    "        with open(os.path.join(save_dir, name), 'w') as f:\n",
    "            for item in texts:\n",
    "                f.write(\"%s\\n\" % item)\n",
    "    if ckpt:\n",
    "        print('file saved as: ', save_dir+sep+name)\n",
    "        print('content saved: ', texts)\n",
    "\n",
    "directory_dwi=main+sep+sb+sep+ses+sep+'dwi'\n",
    "directory_fmap=main+sep+sb+sep+ses+sep+'fmap'\n",
    "params_files=[directory_dwi+sep+sb+ses+'_dir-AP_dwi.json',directory_fmap+sep+sb+ses+'_acq-dwi_dir-1_epi.json']\n",
    "json_params(params_files,main,'acq_params-'+sb+ses+'.txt')"
   ]
  },
  {
   "cell_type": "code",
   "execution_count": 12,
   "metadata": {},
   "outputs": [],
   "source": [
    "tpup=pe.Node(interface=TOPUP(),name='tpup')\n",
    "dti.connect(merg,'merged_file',tpup,'in_file')\n",
    "tpup.inputs.encoding_file = main+sep+'acq_params-'+sb+ses+'.txt'\n",
    "tpup.inputs.output_type = \"NIFTI_GZ\""
   ]
  },
  {
   "cell_type": "markdown",
   "metadata": {},
   "source": [
    "---"
   ]
  },
  {
   "cell_type": "code",
   "execution_count": 13,
   "metadata": {},
   "outputs": [],
   "source": [
    "mu = pe.Node(interface=Merge_other(2), name='mu')\n",
    "dti.connect(roi1,'roi_file',mu,'in1')\n",
    "dti.connect(flirt,'out_file',mu,'in2')"
   ]
  },
  {
   "cell_type": "code",
   "execution_count": 14,
   "metadata": {},
   "outputs": [],
   "source": [
    "apptpup=pe.Node(interface=ApplyTOPUP(),name='apptpup')\n",
    "dti.connect(mu,'out',apptpup,'in_files')\n",
    "apptpup.inputs.encoding_file = main+sep+'acq_params-'+sb+ses+'.txt'\n",
    "dti.connect(tpup,'out_fieldcoef',apptpup,'in_topup_fieldcoef')\n",
    "dti.connect(tpup,'out_movpar',apptpup,'in_topup_movpar')\n",
    "apptpup.inputs.output_type = \"NIFTI_GZ\""
   ]
  },
  {
   "cell_type": "code",
   "execution_count": 15,
   "metadata": {},
   "outputs": [],
   "source": [
    "bet=pe.Node(interface=fsl.BET(),name='bet')\n",
    "dti.connect(apptpup,'out_corrected',bet,'in_file')\n",
    "bet.inputs.frac = 0.2\n",
    "bet.inputs.mask = True"
   ]
  },
  {
   "cell_type": "markdown",
   "metadata": {},
   "source": [
    "---"
   ]
  },
  {
   "cell_type": "code",
   "execution_count": 16,
   "metadata": {},
   "outputs": [],
   "source": [
    "def create_index(file,save_dir,name):\n",
    "    #print(\"> creating index\",print_time(),\"      \", end=\"\", flush=True)\n",
    "    with open(file) as f:\n",
    "        lasito=f.read()\n",
    "        volumes= len(lasito.split(' '))\n",
    "    with open(os.path.join(save_dir, name), 'w') as f:\n",
    "        for i in range(volumes):\n",
    "            f.write(\"1 \")\n",
    "file= main+sep+sb+sep+ses+sep+'dwi'+sep+sb+ses+'_dir-AP_dwi.bval'\n",
    "save_dir=main\n",
    "name='index-'+sb+ses+'_dir-AP_dwi.txt'\n",
    "create_index(file,save_dir,name)"
   ]
  },
  {
   "cell_type": "code",
   "execution_count": 17,
   "metadata": {},
   "outputs": [],
   "source": [
    "eddy=pe.Node(interface=Eddy(),name='eddy')\n",
    "eddy.inputs.in_file = main+sep+sb+sep+ses+sep+'dwi'+sep+sb+ses+'_dir-AP_dwi.nii'\n",
    "dti.connect(bet,'mask_file',eddy,'in_mask')\n",
    "eddy.inputs.in_index = main+sep+'index-'+sb+ses+'_dir-AP_dwi.txt'\n",
    "eddy.inputs.in_acqp  = main+sep+'acq_params-'+sb+ses+'.txt'\n",
    "eddy.inputs.in_bvec  = main+sep+sb+sep+ses+sep+'dwi'+sep+sb+ses+'_dir-AP_dwi.bvec'\n",
    "eddy.inputs.in_bval  = main+sep+sb+sep+ses+sep+'dwi'+sep+sb+ses+'_dir-AP_dwi.bval'"
   ]
  },
  {
   "cell_type": "code",
   "execution_count": 18,
   "metadata": {},
   "outputs": [],
   "source": [
    "datasink = pe.Node(interface=nio.DataSink(), name=\"datasink\")\n",
    "datasink.inputs.base_directory = os.path.abspath('./Results')"
   ]
  },
  {
   "cell_type": "code",
   "execution_count": 19,
   "metadata": {},
   "outputs": [],
   "source": [
    "lasosink = pe.Node(interface=nio.DataSink(), name=\"lasosink\")\n",
    "lasosink.inputs.base_directory = os.path.abspath('./Results')"
   ]
  },
  {
   "cell_type": "code",
   "execution_count": 20,
   "metadata": {},
   "outputs": [],
   "source": [
    "#dti.connect(tpup,'out_corrected',datasink,'topup')\n",
    "dti.connect(apptpup,'out_corrected',datasink,'applytopup')"
   ]
  },
  {
   "cell_type": "code",
   "execution_count": 21,
   "metadata": {},
   "outputs": [],
   "source": [
    "dti.connect(eddy,'out_corrected',lasosink,'eddy')"
   ]
  },
  {
   "cell_type": "code",
   "execution_count": 22,
   "metadata": {},
   "outputs": [
    {
     "name": "stdout",
     "output_type": "stream",
     "text": [
      "200225-09:33:48,79 nipype.workflow INFO:\n",
      "\t Generated workflow graph: ./dti/graph.png (graph2use=colored, simple_form=True).\n"
     ]
    },
    {
     "data": {
      "text/plain": [
       "'./dti/graph.png'"
      ]
     },
     "execution_count": 22,
     "metadata": {},
     "output_type": "execute_result"
    }
   ],
   "source": [
    "dti.write_graph(graph2use='colored')"
   ]
  },
  {
   "cell_type": "code",
   "execution_count": 23,
   "metadata": {
    "scrolled": false
   },
   "outputs": [
    {
     "name": "stdout",
     "output_type": "stream",
     "text": [
      "200225-09:34:22,163 nipype.workflow INFO:\n",
      "\t Workflow dti settings: ['check', 'execution', 'logging', 'monitoring']\n",
      "200225-09:34:22,224 nipype.workflow INFO:\n",
      "\t Running serially.\n",
      "200225-09:34:22,226 nipype.workflow INFO:\n",
      "\t [Node] Setting-up \"dti.roi1\" in \"/Users/administrator/Documents/nifti/dti/roi1\".\n",
      "200225-09:34:22,280 nipype.workflow INFO:\n",
      "\t [Node] Cached \"dti.roi1\" - collecting precomputed outputs\n",
      "200225-09:34:22,282 nipype.workflow INFO:\n",
      "\t [Node] \"dti.roi1\" found cached.\n",
      "200225-09:34:22,284 nipype.workflow INFO:\n",
      "\t [Node] Setting-up \"dti.roi2\" in \"/Users/administrator/Documents/nifti/dti/roi2\".\n",
      "200225-09:34:22,346 nipype.workflow INFO:\n",
      "\t [Node] Cached \"dti.roi2\" - collecting precomputed outputs\n",
      "200225-09:34:22,347 nipype.workflow INFO:\n",
      "\t [Node] \"dti.roi2\" found cached.\n",
      "200225-09:34:22,349 nipype.workflow INFO:\n",
      "\t [Node] Setting-up \"dti.flirt\" in \"/Users/administrator/Documents/nifti/dti/flirt\".\n",
      "200225-09:34:22,382 nipype.workflow INFO:\n",
      "\t [Node] Cached \"dti.flirt\" - collecting precomputed outputs\n",
      "200225-09:34:22,383 nipype.workflow INFO:\n",
      "\t [Node] \"dti.flirt\" found cached.\n",
      "200225-09:34:22,385 nipype.workflow INFO:\n",
      "\t [Node] Setting-up \"dti.mu\" in \"/Users/administrator/Documents/nifti/dti/mu\".\n",
      "200225-09:34:22,390 nipype.workflow INFO:\n",
      "\t [Node] Outdated cache found for \"dti.mu\".\n",
      "200225-09:34:22,397 nipype.workflow INFO:\n",
      "\t [Node] Running \"mu\" (\"nipype.interfaces.utility.base.Merge\")\n",
      "200225-09:34:22,405 nipype.workflow INFO:\n",
      "\t [Node] Finished \"dti.mu\".\n",
      "200225-09:34:22,407 nipype.workflow INFO:\n",
      "\t [Node] Setting-up \"dti.mi\" in \"/Users/administrator/Documents/nifti/dti/mi\".\n",
      "200225-09:34:22,423 nipype.workflow INFO:\n",
      "\t [Node] Cached \"dti.mi\" - collecting precomputed outputs\n",
      "200225-09:34:22,424 nipype.workflow INFO:\n",
      "\t [Node] \"dti.mi\" found cached.\n",
      "200225-09:34:22,426 nipype.workflow INFO:\n",
      "\t [Node] Setting-up \"dti.merg\" in \"/Users/administrator/Documents/nifti/dti/merg\".\n",
      "200225-09:34:22,470 nipype.workflow INFO:\n",
      "\t [Node] Cached \"dti.merg\" - collecting precomputed outputs\n",
      "200225-09:34:22,471 nipype.workflow INFO:\n",
      "\t [Node] \"dti.merg\" found cached.\n",
      "200225-09:34:22,472 nipype.workflow INFO:\n",
      "\t [Node] Setting-up \"dti.tpup\" in \"/Users/administrator/Documents/nifti/dti/tpup\".\n",
      "200225-09:34:22,477 nipype.workflow INFO:\n",
      "\t [Node] Outdated cache found for \"dti.tpup\".\n",
      "200225-09:34:22,485 nipype.workflow INFO:\n",
      "\t [Node] Running \"tpup\" (\"nipype.interfaces.fsl.epi.TOPUP\"), a CommandLine Interface with command:\n",
      "topup --config=b02b0.cnf --datain=/Users/administrator/Documents/nifti/acq_params-sub-sp01ses-02.txt --imain=/Users/administrator/Documents/nifti/dti/merg/nodif_sub-sp01ses-02-dwi_merged.nii.gz --out=nodif_sub-sp01ses-02-dwi_merged_base --iout=nodif_sub-sp01ses-02-dwi_merged_corrected.nii.gz --fout=nodif_sub-sp01ses-02-dwi_merged_field.nii.gz --jacout=jac --logout=nodif_sub-sp01ses-02-dwi_merged_topup.log --rbmout=xfm --dfout=warpfield\n",
      "200225-10:18:38,210 nipype.workflow INFO:\n",
      "\t [Node] Finished \"dti.tpup\".\n",
      "200225-10:18:38,212 nipype.workflow INFO:\n",
      "\t [Node] Setting-up \"dti.apptpup\" in \"/Users/administrator/Documents/nifti/dti/apptpup\".\n",
      "200225-10:18:38,237 nipype.workflow INFO:\n",
      "\t [Node] Running \"apptpup\" (\"nipype.interfaces.fsl.epi.ApplyTOPUP\"), a CommandLine Interface with command:\n",
      "applytopup --datain=/Users/administrator/Documents/nifti/acq_params-sub-sp01ses-02.txt --imain=/Users/administrator/Documents/nifti/sub-sp01/ses-02/dwi/nodif_sub-sp01ses-02-dwi.nii.gz,/Users/administrator/Documents/nifti/dti/flirt/nodif_sub-sp01ses-02-fmap_flirt.nii.gz --inindex=1,2 --topup=/Users/administrator/Documents/nifti/dti/apptpup/nodif_sub-sp01ses-02-dwi_merged_base --out=nodif_sub-sp01ses-02-dwi_corrected.nii.gz\n",
      "200225-10:21:37,761 nipype.workflow INFO:\n",
      "\t [Node] Finished \"dti.apptpup\".\n",
      "200225-10:21:37,763 nipype.workflow INFO:\n",
      "\t [Node] Setting-up \"dti.datasink\" in \"/Users/administrator/Documents/nifti/dti/datasink\".\n",
      "200225-10:21:37,767 nipype.workflow INFO:\n",
      "\t [Node] Outdated cache found for \"dti.datasink\".\n",
      "200225-10:21:37,774 nipype.workflow INFO:\n",
      "\t [Node] Running \"datasink\" (\"nipype.interfaces.io.DataSink\")\n",
      "200225-10:21:37,781 nipype.workflow INFO:\n",
      "\t [Node] Finished \"dti.datasink\".\n",
      "200225-10:21:37,783 nipype.workflow INFO:\n",
      "\t [Node] Setting-up \"dti.bet\" in \"/Users/administrator/Documents/nifti/dti/bet\".\n",
      "200225-10:21:37,793 nipype.workflow INFO:\n",
      "\t [Node] Running \"bet\" (\"nipype.interfaces.fsl.preprocess.BET\"), a CommandLine Interface with command:\n",
      "bet /Users/administrator/Documents/nifti/dti/apptpup/nodif_sub-sp01ses-02-dwi_corrected.nii.gz /Users/administrator/Documents/nifti/dti/bet/nodif_sub-sp01ses-02-dwi_corrected_brain.nii.gz -f 0.20 -m\n",
      "200225-10:21:40,762 nipype.workflow INFO:\n",
      "\t [Node] Finished \"dti.bet\".\n",
      "200225-10:21:40,764 nipype.workflow INFO:\n",
      "\t [Node] Setting-up \"dti.eddy\" in \"/Users/administrator/Documents/nifti/dti/eddy\".\n",
      "200225-10:21:40,775 nipype.workflow INFO:\n",
      "\t [Node] Running \"eddy\" (\"nipype.interfaces.fsl.epi.Eddy\"), a CommandLine Interface with command:\n",
      "eddy_openmp --flm=quadratic --ff=10.0 --acqp=/Users/administrator/Documents/nifti/acq_params-sub-sp01ses-02.txt --bvals=/Users/administrator/Documents/nifti/sub-sp01/ses-02/dwi/sub-sp01ses-02_dir-AP_dwi.bval --bvecs=/Users/administrator/Documents/nifti/sub-sp01/ses-02/dwi/sub-sp01ses-02_dir-AP_dwi.bvec --imain=/Users/administrator/Documents/nifti/sub-sp01/ses-02/dwi/sub-sp01ses-02_dir-AP_dwi.nii --index=index-sub-sp01ses-02_dir-AP_dwi.txt --mask=/Users/administrator/Documents/nifti/dti/bet/nodif_sub-sp01ses-02-dwi_corrected_brain_mask.nii.gz --interp=spline --resamp=jac --niter=5 --nvoxhp=1000 --out=/Users/administrator/Documents/nifti/dti/eddy/eddy_corrected --slm=none\n",
      "200225-10:21:40,954 nipype.interface INFO:\n",
      "\t stderr 2020-02-25T10:21:40.954537:Could not open matrix file index-sub-sp01ses-02_dir-AP_dwi.txt\n",
      "200225-10:21:40,976 nipype.interface INFO:\n",
      "\t stdout 2020-02-25T10:21:40.976149:EddyInputError:  Error when attempting to read --index file\n",
      "200225-10:21:40,978 nipype.interface INFO:\n",
      "\t stdout 2020-02-25T10:21:40.976149:Terminating program\n",
      "200225-10:21:41,83 nipype.workflow WARNING:\n",
      "\t Storing result file without outputs\n",
      "200225-10:21:41,86 nipype.workflow WARNING:\n",
      "\t [Node] Error on \"dti.eddy\" (/Users/administrator/Documents/nifti/dti/eddy)\n",
      "200225-10:21:41,101 nipype.workflow ERROR:\n",
      "\t Node eddy failed to run on host carabinero.escet.urjc.es.\n",
      "200225-10:21:41,103 nipype.workflow ERROR:\n",
      "\t Saving crash info to /Users/administrator/Documents/nifti/crash-20200225-102141-administrator-eddy-2d738b39-90f2-4f77-b856-ffb741a253e3.pklz\n",
      "Traceback (most recent call last):\n",
      "  File \"/Users/administrator/anaconda3/envs/LasoNeuroFSL/lib/python3.7/site-packages/nipype/pipeline/plugins/linear.py\", line 46, in run\n",
      "    node.run(updatehash=updatehash)\n",
      "  File \"/Users/administrator/anaconda3/envs/LasoNeuroFSL/lib/python3.7/site-packages/nipype/pipeline/engine/nodes.py\", line 516, in run\n",
      "    result = self._run_interface(execute=True)\n",
      "  File \"/Users/administrator/anaconda3/envs/LasoNeuroFSL/lib/python3.7/site-packages/nipype/pipeline/engine/nodes.py\", line 635, in _run_interface\n",
      "    return self._run_command(execute)\n",
      "  File \"/Users/administrator/anaconda3/envs/LasoNeuroFSL/lib/python3.7/site-packages/nipype/pipeline/engine/nodes.py\", line 741, in _run_command\n",
      "    result = self._interface.run(cwd=outdir)\n",
      "  File \"/Users/administrator/anaconda3/envs/LasoNeuroFSL/lib/python3.7/site-packages/nipype/interfaces/base/core.py\", line 397, in run\n",
      "    runtime = self._run_interface(runtime)\n",
      "  File \"/Users/administrator/anaconda3/envs/LasoNeuroFSL/lib/python3.7/site-packages/nipype/interfaces/fsl/epi.py\", line 997, in _run_interface\n",
      "    runtime = super(Eddy, self)._run_interface(runtime)\n",
      "  File \"/Users/administrator/anaconda3/envs/LasoNeuroFSL/lib/python3.7/site-packages/nipype/interfaces/base/core.py\", line 792, in _run_interface\n",
      "    self.raise_exception(runtime)\n",
      "  File \"/Users/administrator/anaconda3/envs/LasoNeuroFSL/lib/python3.7/site-packages/nipype/interfaces/base/core.py\", line 723, in raise_exception\n",
      "    ).format(**runtime.dictcopy())\n",
      "RuntimeError: Command:\n",
      "eddy --flm=quadratic --ff=10.0 --acqp=/Users/administrator/Documents/nifti/acq_params-sub-sp01ses-02.txt --bvals=/Users/administrator/Documents/nifti/sub-sp01/ses-02/dwi/sub-sp01ses-02_dir-AP_dwi.bval --bvecs=/Users/administrator/Documents/nifti/sub-sp01/ses-02/dwi/sub-sp01ses-02_dir-AP_dwi.bvec --imain=/Users/administrator/Documents/nifti/sub-sp01/ses-02/dwi/sub-sp01ses-02_dir-AP_dwi.nii --index=index-sub-sp01ses-02_dir-AP_dwi.txt --mask=/Users/administrator/Documents/nifti/dti/bet/nodif_sub-sp01ses-02-dwi_corrected_brain_mask.nii.gz --interp=spline --resamp=jac --niter=5 --nvoxhp=1000 --out=/Users/administrator/Documents/nifti/dti/eddy/eddy_corrected --slm=none\n",
      "Standard output:\n",
      "EddyInputError:  Error when attempting to read --index file\n",
      "Terminating program\n",
      "Standard error:\n",
      "Could not open matrix file index-sub-sp01ses-02_dir-AP_dwi.txt\n",
      "Return code: 1\n",
      "\n"
     ]
    },
    {
     "name": "stdout",
     "output_type": "stream",
     "text": [
      "200225-10:21:41,107 nipype.workflow INFO:\n",
      "\t ***********************************\n",
      "200225-10:21:41,109 nipype.workflow ERROR:\n",
      "\t could not run node: dti.eddy\n",
      "200225-10:21:41,110 nipype.workflow INFO:\n",
      "\t crashfile: /Users/administrator/Documents/nifti/crash-20200225-102141-administrator-eddy-2d738b39-90f2-4f77-b856-ffb741a253e3.pklz\n",
      "200225-10:21:41,112 nipype.workflow INFO:\n",
      "\t ***********************************\n"
     ]
    },
    {
     "ename": "RuntimeError",
     "evalue": "Workflow did not execute cleanly. Check log for details",
     "output_type": "error",
     "traceback": [
      "\u001b[0;31m---------------------------------------------------------------------------\u001b[0m",
      "\u001b[0;31mRuntimeError\u001b[0m                              Traceback (most recent call last)",
      "\u001b[0;32m<ipython-input-23-179a61a9ec53>\u001b[0m in \u001b[0;36m<module>\u001b[0;34m\u001b[0m\n\u001b[0;32m----> 1\u001b[0;31m \u001b[0mdti\u001b[0m\u001b[0;34m.\u001b[0m\u001b[0mrun\u001b[0m\u001b[0;34m(\u001b[0m\u001b[0;34m)\u001b[0m\u001b[0;34m\u001b[0m\u001b[0;34m\u001b[0m\u001b[0m\n\u001b[0m",
      "\u001b[0;32m~/anaconda3/envs/LasoNeuroFSL/lib/python3.7/site-packages/nipype/pipeline/engine/workflows.py\u001b[0m in \u001b[0;36mrun\u001b[0;34m(self, plugin, plugin_args, updatehash)\u001b[0m\n\u001b[1;32m    630\u001b[0m         \u001b[0;32mif\u001b[0m \u001b[0mstr2bool\u001b[0m\u001b[0;34m(\u001b[0m\u001b[0mself\u001b[0m\u001b[0;34m.\u001b[0m\u001b[0mconfig\u001b[0m\u001b[0;34m[\u001b[0m\u001b[0;34m\"execution\"\u001b[0m\u001b[0;34m]\u001b[0m\u001b[0;34m[\u001b[0m\u001b[0;34m\"create_report\"\u001b[0m\u001b[0;34m]\u001b[0m\u001b[0;34m)\u001b[0m\u001b[0;34m:\u001b[0m\u001b[0;34m\u001b[0m\u001b[0;34m\u001b[0m\u001b[0m\n\u001b[1;32m    631\u001b[0m             \u001b[0mself\u001b[0m\u001b[0;34m.\u001b[0m\u001b[0m_write_report_info\u001b[0m\u001b[0;34m(\u001b[0m\u001b[0mself\u001b[0m\u001b[0;34m.\u001b[0m\u001b[0mbase_dir\u001b[0m\u001b[0;34m,\u001b[0m \u001b[0mself\u001b[0m\u001b[0;34m.\u001b[0m\u001b[0mname\u001b[0m\u001b[0;34m,\u001b[0m \u001b[0mexecgraph\u001b[0m\u001b[0;34m)\u001b[0m\u001b[0;34m\u001b[0m\u001b[0;34m\u001b[0m\u001b[0m\n\u001b[0;32m--> 632\u001b[0;31m         \u001b[0mrunner\u001b[0m\u001b[0;34m.\u001b[0m\u001b[0mrun\u001b[0m\u001b[0;34m(\u001b[0m\u001b[0mexecgraph\u001b[0m\u001b[0;34m,\u001b[0m \u001b[0mupdatehash\u001b[0m\u001b[0;34m=\u001b[0m\u001b[0mupdatehash\u001b[0m\u001b[0;34m,\u001b[0m \u001b[0mconfig\u001b[0m\u001b[0;34m=\u001b[0m\u001b[0mself\u001b[0m\u001b[0;34m.\u001b[0m\u001b[0mconfig\u001b[0m\u001b[0;34m)\u001b[0m\u001b[0;34m\u001b[0m\u001b[0;34m\u001b[0m\u001b[0m\n\u001b[0m\u001b[1;32m    633\u001b[0m         \u001b[0mdatestr\u001b[0m \u001b[0;34m=\u001b[0m \u001b[0mdatetime\u001b[0m\u001b[0;34m.\u001b[0m\u001b[0mutcnow\u001b[0m\u001b[0;34m(\u001b[0m\u001b[0;34m)\u001b[0m\u001b[0;34m.\u001b[0m\u001b[0mstrftime\u001b[0m\u001b[0;34m(\u001b[0m\u001b[0;34m\"%Y%m%dT%H%M%S\"\u001b[0m\u001b[0;34m)\u001b[0m\u001b[0;34m\u001b[0m\u001b[0;34m\u001b[0m\u001b[0m\n\u001b[1;32m    634\u001b[0m         \u001b[0;32mif\u001b[0m \u001b[0mstr2bool\u001b[0m\u001b[0;34m(\u001b[0m\u001b[0mself\u001b[0m\u001b[0;34m.\u001b[0m\u001b[0mconfig\u001b[0m\u001b[0;34m[\u001b[0m\u001b[0;34m\"execution\"\u001b[0m\u001b[0;34m]\u001b[0m\u001b[0;34m[\u001b[0m\u001b[0;34m\"write_provenance\"\u001b[0m\u001b[0;34m]\u001b[0m\u001b[0;34m)\u001b[0m\u001b[0;34m:\u001b[0m\u001b[0;34m\u001b[0m\u001b[0;34m\u001b[0m\u001b[0m\n",
      "\u001b[0;32m~/anaconda3/envs/LasoNeuroFSL/lib/python3.7/site-packages/nipype/pipeline/plugins/linear.py\u001b[0m in \u001b[0;36mrun\u001b[0;34m(self, graph, config, updatehash)\u001b[0m\n\u001b[1;32m     68\u001b[0m \u001b[0;34m\u001b[0m\u001b[0m\n\u001b[1;32m     69\u001b[0m         \u001b[0mos\u001b[0m\u001b[0;34m.\u001b[0m\u001b[0mchdir\u001b[0m\u001b[0;34m(\u001b[0m\u001b[0mold_wd\u001b[0m\u001b[0;34m)\u001b[0m  \u001b[0;31m# Return wherever we were before\u001b[0m\u001b[0;34m\u001b[0m\u001b[0;34m\u001b[0m\u001b[0m\n\u001b[0;32m---> 70\u001b[0;31m         \u001b[0mreport_nodes_not_run\u001b[0m\u001b[0;34m(\u001b[0m\u001b[0mnotrun\u001b[0m\u001b[0;34m)\u001b[0m\u001b[0;34m\u001b[0m\u001b[0;34m\u001b[0m\u001b[0m\n\u001b[0m",
      "\u001b[0;32m~/anaconda3/envs/LasoNeuroFSL/lib/python3.7/site-packages/nipype/pipeline/plugins/tools.py\u001b[0m in \u001b[0;36mreport_nodes_not_run\u001b[0;34m(notrun)\u001b[0m\n\u001b[1;32m     96\u001b[0m         \u001b[0mlogger\u001b[0m\u001b[0;34m.\u001b[0m\u001b[0minfo\u001b[0m\u001b[0;34m(\u001b[0m\u001b[0;34m\"***********************************\"\u001b[0m\u001b[0;34m)\u001b[0m\u001b[0;34m\u001b[0m\u001b[0;34m\u001b[0m\u001b[0m\n\u001b[1;32m     97\u001b[0m         raise RuntimeError(\n\u001b[0;32m---> 98\u001b[0;31m             \u001b[0;34m(\u001b[0m\u001b[0;34m\"Workflow did not execute cleanly. \"\u001b[0m \u001b[0;34m\"Check log for details\"\u001b[0m\u001b[0;34m)\u001b[0m\u001b[0;34m\u001b[0m\u001b[0;34m\u001b[0m\u001b[0m\n\u001b[0m\u001b[1;32m     99\u001b[0m         )\n\u001b[1;32m    100\u001b[0m \u001b[0;34m\u001b[0m\u001b[0m\n",
      "\u001b[0;31mRuntimeError\u001b[0m: Workflow did not execute cleanly. Check log for details"
     ]
    }
   ],
   "source": [
    "dti.run()"
   ]
  },
  {
   "cell_type": "markdown",
   "metadata": {},
   "source": [
    "---"
   ]
  },
  {
   "cell_type": "markdown",
   "metadata": {},
   "source": [
    "checkpoint at 20:20 --> topup working"
   ]
  }
 ],
 "metadata": {
  "kernelspec": {
   "display_name": "Python 3",
   "language": "python",
   "name": "python3"
  },
  "language_info": {
   "codemirror_mode": {
    "name": "ipython",
    "version": 3
   },
   "file_extension": ".py",
   "mimetype": "text/x-python",
   "name": "python",
   "nbconvert_exporter": "python",
   "pygments_lexer": "ipython3",
   "version": "3.8.1"
  }
 },
 "nbformat": 4,
 "nbformat_minor": 4
}
