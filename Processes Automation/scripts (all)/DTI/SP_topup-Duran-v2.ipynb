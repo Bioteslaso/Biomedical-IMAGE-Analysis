{
 "cells": [
  {
   "cell_type": "markdown",
   "metadata": {},
   "source": [
    "### TOPUP "
   ]
  },
  {
   "cell_type": "markdown",
   "metadata": {},
   "source": [
    "1. acceder al arbol de directorio\n",
    "2. recuperar los datos que son importantes: echotime totalreadtime (acqparameters.txt)\n",
    "3. coger solo la primera imagen B0\n",
    "4. brain mask\n",
    "5. subprocess"
   ]
  },
  {
   "cell_type": "code",
   "execution_count": 4,
   "metadata": {},
   "outputs": [
    {
     "name": "stdout",
     "output_type": "stream",
     "text": [
      "200219-11:11:36,968 nipype.utils INFO:\n",
      "\t No new version available.\n"
     ]
    }
   ],
   "source": [
    "import os\n",
    "import nipype\n",
    "import json\n",
    "from pathlib import Path"
   ]
  },
  {
   "cell_type": "code",
   "execution_count": 3,
   "metadata": {},
   "outputs": [],
   "source": [
    "#path=\"C:\\Users\\viole\\Desktop\\TFG\\SENECA-PICASO\""
   ]
  },
  {
   "cell_type": "code",
   "execution_count": 4,
   "metadata": {},
   "outputs": [],
   "source": [
    "#camino = Path(main+'Documentos/archivos_texto/')"
   ]
  },
  {
   "cell_type": "code",
   "execution_count": 5,
   "metadata": {},
   "outputs": [],
   "source": [
    "sep=os.path.sep\n",
    "\n",
    "main= 'C:'+sep+'Users'+ sep+'viole'+sep+'Desktop'+sep+'TFG'+sep+'SENECA-PICASO'"
   ]
  },
  {
   "cell_type": "code",
   "execution_count": 6,
   "metadata": {},
   "outputs": [
    {
     "data": {
      "text/plain": [
       "['ses-01', 'ses-02']"
      ]
     },
     "execution_count": 6,
     "metadata": {},
     "output_type": "execute_result"
    }
   ],
   "source": [
    "os.getcwd()\n",
    "os.listdir(\"nifti\\\\nifti\\\\sub-sp01\")"
   ]
  },
  {
   "cell_type": "code",
   "execution_count": 7,
   "metadata": {},
   "outputs": [],
   "source": [
    "rootDir=main+sep+'nifti'+sep+'nifti'+sep+'sub-sp01'+sep+'ses-02'+sep+'func'+sep+'sub-sp01'+sep+'ses-02_task-rest_bold.json'\n",
    "\n",
    "for dirName, subdirList, fileList in os.walk(rootDir, topdown=False):\n",
    "    print('hola')\n",
    "    print('Found directory: %s' % fileList)"
   ]
  },
  {
   "cell_type": "code",
   "execution_count": 8,
   "metadata": {},
   "outputs": [
    {
     "data": {
      "text/plain": [
       "True"
      ]
     },
     "execution_count": 8,
     "metadata": {},
     "output_type": "execute_result"
    }
   ],
   "source": [
    "\n",
    "os.access(\"nifti\", os.R_OK) "
   ]
  },
  {
   "cell_type": "markdown",
   "metadata": {},
   "source": [
    "1. Read the json files "
   ]
  },
  {
   "cell_type": "code",
   "execution_count": 9,
   "metadata": {},
   "outputs": [],
   "source": [
    "file=main+sep+'nifti'+sep+'nifti'+sep+'sub-sp01'+sep+'ses-02'+sep+'func'+sep+'sub-sp01ses-02_task-rest_bold.json'\n"
   ]
  },
  {
   "cell_type": "code",
   "execution_count": 10,
   "metadata": {},
   "outputs": [
    {
     "name": "stdout",
     "output_type": "stream",
     "text": [
      "0.00078 96 0.0248 j-\n"
     ]
    }
   ],
   "source": [
    "with open(file) as json_file:\n",
    "    data = json.load(json_file)\n",
    "    EES=data[\"EffectiveEchoSpacing\"]\n",
    "    AdqMatPE=data[\"AcquisitionMatrixPE\"]\n",
    "    ET=data[\"EchoTime\"]\n",
    "    PhaseDir=data[\"PhaseEncodingDirection\"]\n",
    "    print(EES, AdqMatPE, ET, PhaseDir)\n",
    "    "
   ]
  },
  {
   "cell_type": "markdown",
   "metadata": {},
   "source": [
    "2. Calculate TotalReadOutTime"
   ]
  },
  {
   "cell_type": "code",
   "execution_count": 11,
   "metadata": {},
   "outputs": [],
   "source": [
    "ReadOut= 0.5*EES*AdqMatPE"
   ]
  },
  {
   "cell_type": "code",
   "execution_count": 12,
   "metadata": {},
   "outputs": [
    {
     "data": {
      "text/plain": [
       "0.03744"
      ]
     },
     "execution_count": 12,
     "metadata": {},
     "output_type": "execute_result"
    }
   ],
   "source": [
    "ReadOut"
   ]
  },
  {
   "cell_type": "markdown",
   "metadata": {},
   "source": [
    "3. Creat acqparameters.txt"
   ]
  },
  {
   "cell_type": "code",
   "execution_count": 13,
   "metadata": {},
   "outputs": [],
   "source": [
    "string=PhaseDir\n",
    "f= open(os.path.join(main,\"acqparameters.txt\"),\"w+\")\n",
    "f.write('0'+' '+string.replace('j-', '-1').replace('j','1')+' '+'0'+' '+str(ReadOut)) \n",
    "f.close()"
   ]
  },
  {
   "cell_type": "markdown",
   "metadata": {},
   "source": [
    "4. Make comandos "
   ]
  },
  {
   "cell_type": "code",
   "execution_count": 19,
   "metadata": {},
   "outputs": [],
   "source": [
    "#fslroi sub-sp01ses-02_dir-AP_dwi.nii nodif 0 1\n",
    "#sub-sp01ses-02_dir-AP_dwi.nii"
   ]
  },
  {
   "cell_type": "code",
   "execution_count": 15,
   "metadata": {},
   "outputs": [
    {
     "name": "stdout",
     "output_type": "stream",
     "text": [
      "'hi'\n"
     ]
    }
   ],
   "source": [
    "from nipype.interfaces.fsl import ExtractROI\n",
    "dwidata=main+sep+'nifti'+sep+'nifti'+sep+'sub-sp01'+sep+'ses-02'+sep+'dwi'+sep+'sub-sp01ses-02_dir-AP_dwi.nii'\n",
    "fslroi = ExtractROI(in_file=dwidata, roi_file='nodif.nii', t_min=0,t_size=1)#como llamabamos el nodif\n",
    "fslroi.cmdline == 'fslroi %s nodif.nii 0 1' % dwidata"
   ]
  },
  {
   "cell_type": "code",
   "execution_count": 18,
   "metadata": {},
   "outputs": [],
   "source": [
    "#fls merge  -t AP_PA_b0 nodif nodif_PA\n",
    "#C:\\Users\\viole\\Desktop\\TFG\\SENECA-PICASO\\nifti\\nifti\\sub-sp01\\ses-02"
   ]
  },
  {
   "cell_type": "code",
   "execution_count": null,
   "metadata": {},
   "outputs": [],
   "source": [
    "from nipype.interface import fsl\n",
    "dataIn=dwidata=main+sep+'nifti'+sep+'nifti'+sep+'sub-sp01'+sep+'ses-02'+sep+'AP_PA_b0.nii.gz'\n",
    "nodif=dwidata=main+sep+'nifti'+sep+'nifti'+sep+'sub-sp01'+sep+'ses-02'+sep+\n",
    "fsl_merge = mem.cache(fsl.Merge)\n",
    "results = fsl_merge(dimension='t', in_files=[dataIn, nodif])\n",
    "results.outputs.merged_file"
   ]
  },
  {
   "cell_type": "code",
   "execution_count": 17,
   "metadata": {},
   "outputs": [],
   "source": [
    "#topup --imain=AP_PA_b0 --datain=acqparams.txt --config=b02b0.cnf --out=topup_AP_PA_b0\n",
    "#imain=AP_PA_b0.nii.gz\n",
    "#datain=acqparams.txt\n",
    "#config=b02b0.cnf(?)\n",
    "#out=topup_AP_PA_b0"
   ]
  },
  {
   "cell_type": "code",
   "execution_count": null,
   "metadata": {},
   "outputs": [],
   "source": [
    "from nipype.interfaces.fsl import ApplyTOPUP\n",
    "applytopup = ApplyTOPUP()\n",
    "imain=main+sep+'nifti'+sep+'nifti'+sep+'sub-sp01'+sep+'ses-02'+sep+'AP_PA_b0.nii.gz'\n",
    "applytopup.inputs.in_files = [imain]\n",
    "applytopup.inputs.encoding_file = \"acqparams.txt\"\n",
    "applytopup.inputs.in_topup_fieldcoef = \"topup_fieldcoef.nii.gz\"#de donde ha salido\n",
    "applytopup.inputs.in_topup_movpar = \"topup_movpar.txt\"#de donde ha salido\n",
    "applytopup.inputs.output_type = \"NIFTI_GZ\"\n",
    "applytopup.cmdline \n",
    "res = applytopup.run() "
   ]
  }
 ],
 "metadata": {
  "kernelspec": {
   "display_name": "Python 3",
   "language": "python",
   "name": "python3"
  },
  "language_info": {
   "codemirror_mode": {
    "name": "ipython",
    "version": 3
   },
   "file_extension": ".py",
   "mimetype": "text/x-python",
   "name": "python",
   "nbconvert_exporter": "python",
   "pygments_lexer": "ipython3",
   "version": "3.7.4"
  }
 },
 "nbformat": 4,
 "nbformat_minor": 2
}
