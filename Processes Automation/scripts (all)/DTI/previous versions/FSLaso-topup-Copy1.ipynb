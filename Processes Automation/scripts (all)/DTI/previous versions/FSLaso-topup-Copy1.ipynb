{
 "cells": [
  {
   "cell_type": "markdown",
   "metadata": {},
   "source": [
    "## FSL automated script"
   ]
  },
  {
   "cell_type": "markdown",
   "metadata": {},
   "source": [
    "----\n",
    "Pablo Lasito\n",
    "\n",
    "---"
   ]
  },
  {
   "cell_type": "markdown",
   "metadata": {},
   "source": [
    "check [Andy's video](https://www.andysbrainblog.com/andysbrainblog/tag/DTI)"
   ]
  },
  {
   "cell_type": "code",
   "execution_count": 35,
   "metadata": {},
   "outputs": [
    {
     "name": "stdout",
     "output_type": "stream",
     "text": [
      "/Users/administrator\n"
     ]
    }
   ],
   "source": [
    "## author: Laso\n",
    "## date: Feb, 18th\n",
    "\n",
    "import os\n",
    "\n",
    "# check your home directory with this:\n",
    "from pathlib import Path\n",
    "print(Path.home())\n",
    "# set main as the path to nifty directory:\n",
    "sep=os.path.sep\n",
    "main= sep+'Volumes'+sep+'HDD1'+sep+'INVESTIGACION'+sep+'SENECA-PICASSO'+sep+'nifti'\n",
    "\n",
    "import json\n",
    "def json_params(files,save_dir,name,ckpt=0):\n",
    "    texts=[]\n",
    "    for file in files:\n",
    "        with open(file) as f:\n",
    "            d = json.load(f)\n",
    "            AT=(d['AcquisitionMatrixPE'])\n",
    "            ES=d['EffectiveEchoSpacing']\n",
    "            j_direction=d['PhaseEncodingDirection']\n",
    "            ReadOut_Time =AT*ES*0.5\n",
    "            text= j_direction.replace('j-','0 -1 0 ').replace('j','0 1 0 ')+ str(ReadOut_Time)\n",
    "            texts.append(text)\n",
    "        with open(os.path.join(save_dir, name), 'w') as f:\n",
    "            for item in texts:\n",
    "                f.write(\"%s\\n\" % item)\n",
    "    if ckpt:\n",
    "        print('file saved as: ', save_dir+sep+name)\n",
    "        print('content saved: ', texts)\n",
    "        \n",
    "import subprocess\n",
    "def run_cmd(cmd,disp=0):\n",
    "    lasito=subprocess.Popen(cmd,stdout=subprocess.PIPE,shell=True)\n",
    "    out, err = lasito.communicate()\n",
    "    if disp:#ckpt\n",
    "        print('>',cmd)\n",
    "        print('>>',out,err)\n",
    "    return out,err"
   ]
  },
  {
   "cell_type": "code",
   "execution_count": 42,
   "metadata": {},
   "outputs": [
    {
     "name": "stdout",
     "output_type": "stream",
     "text": [
      "proceed with sub-sp02ses-02? \n",
      " --> If so, enter \"yes\". \n",
      " --> If not, enter \"no\". \n",
      "yes\n",
      "hooola\n"
     ]
    }
   ],
   "source": [
    "mario = input('proceed with '+ sb+ses+'? \\n --> If so, enter \"yes\". \\n --> If not, enter \"no\". \\n')\n",
    "if mario=='yes':\n",
    "    print('hooola')"
   ]
  },
  {
   "cell_type": "markdown",
   "metadata": {},
   "source": [
    "---"
   ]
  },
  {
   "cell_type": "code",
   "execution_count": 23,
   "metadata": {},
   "outputs": [
    {
     "name": "stdout",
     "output_type": "stream",
     "text": [
      ">  sub-sp01 ses-01 :\n",
      ">> fslroi_dwi DONE\n",
      ">> fslroi_func DONE\n",
      ">  sub-sp01 ses-02 :\n",
      ">> fslroi_dwi DONE\n",
      ">> fslroi_func DONE\n",
      ">  sub-sp02 ses-01 :\n",
      ">> fslroi_dwi DONE\n",
      ">> fslroi_func DONE\n",
      ">  sub-sp02 ses-02 :\n",
      ">> fslroi_dwi DONE\n",
      ">> fslroi_func DONE\n"
     ]
    }
   ],
   "source": [
    "import fnmatch\n",
    "from nipype.interfaces.fsl import ExtractROI\n",
    "from nipype.interfaces import fsl\n",
    "from nipype.testing import example_data\n",
    "from nipype.interfaces import fsl\n",
    "from nipype.testing import example_data\n",
    "from nipype.interfaces.fsl import Merge\n",
    "from nipype.interfaces.fsl import TOPUP\n",
    "from nipype.interfaces.fsl import ApplyTOPUP\n",
    "\n",
    "Subjs=[]\n",
    "for subj in os.listdir(main):\n",
    "    if subj.startswith('sub'):\n",
    "        #print(subj)#ckpt\n",
    "        Subjs.append(subj)\n",
    "   \n",
    "for sb in (Subjs):\n",
    "    for ses in os.listdir(main+sep+sb):\n",
    "        if 'ses' in ses:\n",
    "            print('>> ',sb,ses,':')\n",
    "            \n",
    "            directory_dwi=main+sep+sb+sep+ses+sep+'dwi'\n",
    "            directory_func=main+sep+sb+sep+ses+sep+'func'\n",
    "            files=[directory_dwi+sep+sb+ses+'_dir-AP_dwi.json',directory_func+sep+sb+ses+'_task-rest_bold.json']\n",
    "            json_params(files,main,'acq_params-'+sb+ses+'.txt')\n",
    "            print('params created')\n",
    "               \n",
    "            # get one volume for dwi.nii\n",
    "            dwi_file=main+sep+sb+sep+ses+sep+'dwi'+sep+sb+ses+'_dir-AP_dwi.nii'\n",
    "            output_file=main+sep+sb+sep+ses+sep+'dwi'+sep+'nodif_'+sb+ses+'-dwi.nii.gz'\n",
    "            fslroi = ExtractROI(in_file=dwi_file, roi_file=output_file, t_min=0,t_size=1)\n",
    "            fslroi.cmdline #== 'fslroi %s nodif.nii 0 1' % dwidata\n",
    "            fslroi.run()\n",
    "            print('>> fslroi_dwi DONE')\n",
    "            \n",
    "            bold_file=main+sep+sb+sep+ses+sep+'func'+sep+sb+ses+'_task-rest_bold.nii'\n",
    "            output_file=main+sep+sb+sep+ses+sep+'func'+sep+'nodif_'+sb+ses+'-bold.nii.gz'\n",
    "            fslroi = ExtractROI(in_file=bold_file, roi_file=output_file, t_min=0,t_size=1)\n",
    "            fslroi.cmdline #== 'fslroi %s nodif.nii 0 1' % dwidata\n",
    "            fslroi.run()\n",
    "            print('> fslroi_func DONE')\n",
    "            \n",
    "\n",
    "            dwi_file =main+sep+sb+sep+ses+sep+'dwi'+sep+'nodif_'+sb+ses+'-dwi.nii.gz'\n",
    "            bold_file=main+sep+sb+sep+ses+sep+'func'+sep+'nodif_'+sb+ses+'-bold.nii.gz'\n",
    "            flt = fsl.FLIRT(bins=640, cost_func='mutualinfo')\n",
    "            flt.inputs.in_file = dwi_file\n",
    "            flt.inputs.reference = bold_file\n",
    "            flt.inputs.output_type = \"NIFTI_GZ\"\n",
    "            flt.cmdline\n",
    "            #'flirt -in structural.nii -ref mni.nii -out structural_flirt.nii.gz -omat structural_flirt.mat -bins 640 -searchcost mutualinfo'\n",
    "            res = flt.run()\n",
    "            print('> flirt DONE (not that flirting, Mario...)')\n",
    "            # MOVE FLIES!!!!!\n",
    "            \n",
    "                        \n",
    "            merger = Merge()\n",
    "            dwi_file= main+sep+'nodif_'+sb+ses+'-dwi_flirt.nii.gz'\n",
    "            bold_file=main+sep+sb+sep+ses+sep+'func'+sep+'nodif_'+sb+ses+'-bold.nii.gz'\n",
    "            merger.inputs.in_files = [dwi_file, bold_file]\n",
    "            merger.inputs.dimension = 't'\n",
    "            merger.inputs.output_type = 'NIFTI_GZ'\n",
    "            merger.cmdline\n",
    "            #'fslmerge -t functional2_merged.nii.gz functional2.nii functional3.nii'\n",
    "            res=merger.run()\n",
    "            print('> merge DONE')\n",
    "            # MOVE FLIES!!!!!\n",
    "            \n",
    "            \n",
    "            imain=main+sep+'nodif_'+sb+ses+'-dwi_flirt_merged.nii.gz'\n",
    "            params=main+sep+'acq_params-'+sb+ses+'.txt'\n",
    "            topup = TOPUP()\n",
    "            topup.inputs.in_file = imain\n",
    "            topup.inputs.encoding_file = params\n",
    "            topup.inputs.output_type = \"NIFTI_GZ\"\n",
    "            topup.cmdline \n",
    "            #'topup --config=b02b0.cnf --datain=topup_encoding.txt --imain=b0_b0rev.nii --out=b0_b0rev_base --iout=b0_b0rev_corrected.nii.gz --fout=b0_b0rev_field.nii.gz --logout=b0_b0rev_topup.log'\n",
    "            res = topup.run()\n",
    "            print('> TOPUP completed. Please, check your fieldmap.')\n",
    "            \n",
    "            applytopup = ApplyTOPUP()\n",
    "            #nodif_sub-sp01ses-02-dwi_flirt_merged_base_fieldcoef.nii.gz\n",
    "            imain_up= main+sep+'nodif_'+sb+ses+'-dwi_flirt.nii.gz'\n",
    "            imain_down=main+sep+sb+sep+ses+sep+'func'+sep+'nodif_'+sb+ses+'-bold.nii.gz'\n",
    "            #imain_up  = main+sep+sb+sep+ses+sep+'dwi'+sep+sb+ses+'_dir-AP_dwi.nii' #dwi_file\n",
    "            #imain_down= main+sep+sb+sep+ses+sep+'func'+sep+sb+ses+'_task-rest_bold.nii' #bold_file\n",
    "            applytopup.inputs.in_files = [imain_up,imain_down]\n",
    "            applytopup.inputs.encoding_file = main+sep+'acq_params-'+sb+ses+'.txt' #params\n",
    "            applytopup.inputs.in_topup_fieldcoef = main+sep+'nodif_'+sb+ses+'-dwi_flirt_merged_base_fieldcoef.nii.gz'\n",
    "            applytopup.inputs.in_topup_movpar = main+sep+'nodif_'+sb+ses+'-dwi_flirt_merged_base_movpar.txt'\n",
    "            applytopup.inputs.output_type = \"NIFTI_GZ\"\n",
    "            applytopup.cmdline \n",
    "            res = applytopup.run() \n",
    "            print('> ApplyTopup completed. Please, check final outcome.')"
   ]
  },
  {
   "cell_type": "code",
   "execution_count": 34,
   "metadata": {},
   "outputs": [
    {
     "name": "stdout",
     "output_type": "stream",
     "text": [
      ">>  sub-sp01 ses-01 :\n",
      "> ApplyTopup completed. Please, check final outcome.\n",
      ">>  sub-sp01 ses-02 :\n",
      "> ApplyTopup completed. Please, check final outcome.\n",
      ">>  sub-sp02 ses-01 :\n",
      "> ApplyTopup completed. Please, check final outcome.\n",
      ">>  sub-sp02 ses-02 :\n",
      "> ApplyTopup completed. Please, check final outcome.\n"
     ]
    }
   ],
   "source": [
    "from nipype.interfaces.fsl import ApplyTOPUP\n",
    "Subjs=[]\n",
    "for subj in os.listdir(main):\n",
    "    if subj.startswith('sub'):\n",
    "        #print(subj)#ckpt\n",
    "        Subjs.append(subj)\n",
    "# nodif_sub-sp01ses-01-dwi_flirt_merged.nii.gz   \n",
    "for sb in (Subjs):\n",
    "    for ses in os.listdir(main+sep+sb):\n",
    "        if 'ses' in ses:\n",
    "            print('>> ',sb,ses,':')\n",
    "            \n",
    "            applytopup = ApplyTOPUP()\n",
    "            #nodif_sub-sp01ses-02-dwi_flirt_merged_base_fieldcoef.nii.gz\n",
    "            imain_up= main+sep+'nodif_'+sb+ses+'-dwi_flirt.nii.gz'\n",
    "            imain_down=main+sep+sb+sep+ses+sep+'func'+sep+'nodif_'+sb+ses+'-bold.nii.gz'\n",
    "            #imain_up  = main+sep+sb+sep+ses+sep+'dwi'+sep+sb+ses+'_dir-AP_dwi.nii' #dwi_file\n",
    "            #imain_down= main+sep+sb+sep+ses+sep+'func'+sep+sb+ses+'_task-rest_bold.nii' #bold_file\n",
    "            applytopup.inputs.in_files = [imain_up,imain_down]\n",
    "            applytopup.inputs.encoding_file = main+sep+'acq_params-'+sb+ses+'.txt' #params\n",
    "            applytopup.inputs.in_topup_fieldcoef = main+sep+'nodif_'+sb+ses+'-dwi_flirt_merged_base_fieldcoef.nii.gz'\n",
    "            applytopup.inputs.in_topup_movpar = main+sep+'nodif_'+sb+ses+'-dwi_flirt_merged_base_movpar.txt'\n",
    "            applytopup.inputs.output_type = \"NIFTI_GZ\"\n",
    "            applytopup.cmdline \n",
    "            res = applytopup.run() \n",
    "            print('> ApplyTopup completed. Please, check final outcome.')\n",
    "\n"
   ]
  },
  {
   "cell_type": "markdown",
   "metadata": {},
   "source": [
    "---"
   ]
  },
  {
   "cell_type": "markdown",
   "metadata": {},
   "source": [
    "---"
   ]
  },
  {
   "cell_type": "code",
   "execution_count": 3,
   "metadata": {},
   "outputs": [
    {
     "name": "stdout",
     "output_type": "stream",
     "text": [
      ">>  sub-sp01 ses-01 :\n",
      ">>  sub-sp01 ses-02 :\n",
      ">>  sub-sp02 ses-01 :\n",
      ">>  sub-sp02 ses-02 :\n"
     ]
    },
    {
     "data": {
      "text/plain": [
       "'\\nfor i in range(len(Subjs)):\\n    \\n    \\n    gen = (x for x in xyz if x not in a)\\n    for ses in os.listdir(main+sep+Subjs[i]):\\n        print(\\'\\n>>\\',Subjs[i],ses,\\'...\\') #ckpt\\n        if \\'ses\\' in ses:\\n            Ses.append(ses)\\n            print(ses)\\n        directory_fmap=main+sep+Subjs[i]+sep+ses+sep+\\'fmap\\'\\n        \\n        directory_func=main+sep+Subjs[i]+sep+ses+sep+\\'func\\'\\n        if os.path.exists((directory_func)): # make txt file for params (later needed topup command)\\n            directory_func=main+sep+Subjs[i]+sep+ses+sep+\\'func\\'\\n            json_params(directory_func+sep+Subjs[i]+ses+\\'_task-rest_bold.json\\',directory_func,\\'acq_params\\'+Subjs[i]+ses+\\'.txt\\')\\n            \\n        if os.path.exists(directory_func): # take direction to bold.nii\\n            for file_name in os.listdir(directory_func):\\n                if fnmatch.fnmatch(file_name, \\'sub-sp*task-rest_bold.nii\\'):\\n                    print(\\'>>>\\',file_name) #ckpt\\n                    bold_file=(directory_func+sep+file_name)                    \\n                    #print(\\'>>>\\',file_name,\\'IN\\',dwi_file) #ckpt\\n                    \\n        directory_dwi=main+sep+Subjs[i]+sep+ses+sep+\\'dwi\\'\\n        if os.path.exists(directory_dwi): # take directory to dwi.nii\\n            for file_name in os.listdir(directory_dwi):\\n                if fnmatch.fnmatch(file_name, \\'*dwi.nii\\'):\\n                    print(\\'>>>\\',file_name) #ckpt\\n                    dwi_file=(directory_dwi+sep+file_name)\\n        \\n        if os.path.exists(directory_func) and os.path.exists(directory_dwi):\\n            cmd=\\'fslroi\\'+\\' \"\\'+dwi_file+\\'\" \\' +\\'nodif \\'+\\'0 1\\' #get one volume\\n            run_cmd(cmd,1)\\n            cmd=\\'flirt \\'+\\'-in\\' +\\' \"\\'+dwi_file+\\'\" \\'+\\' \"\\'+bold_file+\\'\" \\' +\\'nodif_PA\\' # dwi to same dimension as bold\\n            run_cmd(cmd,1)\\n            #print(\\'>>>>entering command: \\',cmd)#ckpt\\n                    \\n            merged_output=\\'AP_PA_b0\\'\\n            cmd=\\'fsl merge \\'+ \\'-t \\' + merged_output + \\' nodif \\' + \\'nodif_PA\\' # merge into one\\n            run_cmd(cmd,1)\\n        \\n            cmd=\\'topup \\'+ \\'--imain=\\'+merged_output + \\' datain=\\'+\\'acq_params*.txt \\' + \\'--config=b02b0.cnf \\' +\\'--out=\\'+directory_fmap+\\'acq_rest-fmap\\' \\n            run_cmd(cmd,1)\\n                \\n'"
      ]
     },
     "execution_count": 3,
     "metadata": {},
     "output_type": "execute_result"
    }
   ],
   "source": [
    "'''\n",
    "import fnmatch\n",
    "Subjs=[]\n",
    "for subj in os.listdir(main):\n",
    "    if 'sub' in subj:\n",
    "        #print(subj)#ckpt\n",
    "        Subjs.append(subj)\n",
    "   \n",
    "for sb in (Subjs):\n",
    "    for ses in os.listdir(main+sep+sb):\n",
    "        if 'ses' in ses:\n",
    "            print('>> ',sb,ses,':')\n",
    "'''  \n",
    "            \n",
    "            \n",
    "            \n",
    "########################################################            \n",
    "# previuos code --ª DO NOT DELETE (it might be useful) #   \n",
    "######################################################## \n",
    "'''\n",
    "for i in range(len(Subjs)):\n",
    "    \n",
    "    \n",
    "    gen = (x for x in xyz if x not in a)\n",
    "    for ses in os.listdir(main+sep+Subjs[i]):\n",
    "        print('\\n>>',Subjs[i],ses,'...') #ckpt\n",
    "        if 'ses' in ses:\n",
    "            Ses.append(ses)\n",
    "            print(ses)\n",
    "        directory_fmap=main+sep+Subjs[i]+sep+ses+sep+'fmap'\n",
    "        \n",
    "        directory_func=main+sep+Subjs[i]+sep+ses+sep+'func'\n",
    "        if os.path.exists((directory_func)): # make txt file for params (later needed topup command)\n",
    "            directory_func=main+sep+Subjs[i]+sep+ses+sep+'func'\n",
    "            json_params(directory_func+sep+Subjs[i]+ses+'_task-rest_bold.json',directory_func,'acq_params'+Subjs[i]+ses+'.txt')\n",
    "            \n",
    "        if os.path.exists(directory_func): # take direction to bold.nii\n",
    "            for file_name in os.listdir(directory_func):\n",
    "                if fnmatch.fnmatch(file_name, 'sub-sp*task-rest_bold.nii'):\n",
    "                    print('>>>',file_name) #ckpt\n",
    "                    bold_file=(directory_func+sep+file_name)                    \n",
    "                    #print('>>>',file_name,'IN',dwi_file) #ckpt\n",
    "                    \n",
    "        directory_dwi=main+sep+Subjs[i]+sep+ses+sep+'dwi'\n",
    "        if os.path.exists(directory_dwi): # take directory to dwi.nii\n",
    "            for file_name in os.listdir(directory_dwi):\n",
    "                if fnmatch.fnmatch(file_name, '*dwi.nii'):\n",
    "                    print('>>>',file_name) #ckpt\n",
    "                    dwi_file=(directory_dwi+sep+file_name)\n",
    "        \n",
    "        if os.path.exists(directory_func) and os.path.exists(directory_dwi):\n",
    "            cmd='fslroi'+' \"'+dwi_file+'\" ' +'nodif '+'0 1' #get one volume\n",
    "            run_cmd(cmd,1)\n",
    "            cmd='flirt '+'-in' +' \"'+dwi_file+'\" '+' \"'+bold_file+'\" ' +'nodif_PA' # dwi to same dimension as bold\n",
    "            run_cmd(cmd,1)\n",
    "            #print('>>>>entering command: ',cmd)#ckpt\n",
    "                    \n",
    "            merged_output='AP_PA_b0'\n",
    "            cmd='fsl merge '+ '-t ' + merged_output + ' nodif ' + 'nodif_PA' # merge into one\n",
    "            run_cmd(cmd,1)\n",
    "        \n",
    "            cmd='topup '+ '--imain='+merged_output + ' datain='+'acq_params*.txt ' + '--config=b02b0.cnf ' +'--out='+directory_fmap+'acq_rest-fmap' \n",
    "            run_cmd(cmd,1)\n",
    "                \n",
    "'''   "
   ]
  },
  {
   "cell_type": "markdown",
   "metadata": {},
   "source": [
    "---\n",
    "Pablo Laso Mielgo"
   ]
  }
 ],
 "metadata": {
  "kernelspec": {
   "display_name": "Python 3",
   "language": "python",
   "name": "python3"
  },
  "language_info": {
   "codemirror_mode": {
    "name": "ipython",
    "version": 3
   },
   "file_extension": ".py",
   "mimetype": "text/x-python",
   "name": "python",
   "nbconvert_exporter": "python",
   "pygments_lexer": "ipython3",
   "version": "3.7.6"
  }
 },
 "nbformat": 4,
 "nbformat_minor": 4
}
