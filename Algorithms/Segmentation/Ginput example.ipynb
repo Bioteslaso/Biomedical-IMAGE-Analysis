{
 "cells": [
  {
   "cell_type": "markdown",
   "metadata": {},
   "source": [
    "# GINPUT\n",
    "\n",
    "##### MEDICAL IMAGE ANALYSIS\n",
    "##### Degree in Biomedical Engineering\n",
    "##### Course 2020/2021\n",
    "\n",
    "\n",
    "<div class=\"alert alert-block alert-warning\">\n",
    "<b>Authors:</b> $$Raúl \\quad López \\quad González$$ <br>\n",
    "$$Hugo \\quad Calero \\quad Diaz$$ <br>\n",
    "$$Pablo \\quad Laso \\quad Mielgo$$\n",
    "\n",
    "</div>"
   ]
  },
  {
   "cell_type": "markdown",
   "metadata": {},
   "source": [
    ">> We wrote this notebook apart because jupyter did not allow us to use both the graphical interface for Ginput and plotting images in one single notebook. Therefore we show here the code for calling ginput and storing teh variables that shall be used as seed. Later on, we use those values in the others notebooks as seeds."
   ]
  },
  {
   "cell_type": "code",
   "execution_count": 1,
   "metadata": {},
   "outputs": [
    {
     "name": "stdout",
     "output_type": "stream",
     "text": [
      "Populating the interactive namespace from numpy and matplotlib\n"
     ]
    }
   ],
   "source": [
    "from skimage import io\n",
    "import numpy as np\n",
    "%pylab inline \n",
    "import matplotlib.pyplot as plt\n",
    "matplotlib.use('TkAgg')\n",
    "import matplotlib.image as mpimg\n",
    "import cv2\n",
    "from pydicom import dcmread"
   ]
  },
  {
   "cell_type": "code",
   "execution_count": 7,
   "metadata": {},
   "outputs": [
    {
     "name": "stdout",
     "output_type": "stream",
     "text": [
      "After 2 clicks :\n",
      "[(199.76490066225162, 246.17549668874173), (187.04966887417217, 267.7913907284768)]\n"
     ]
    }
   ],
   "source": [
    "ds = dcmread(\"1-10.dcm\")\n",
    "img_in = ds.pixel_array\n",
    "img = img_in\n",
    "\n",
    "x1= img\n",
    "fig= plt.figure(dpi= 100)\n",
    "axes= fig.add_subplot(111)\n",
    "    \n",
    "fig.suptitle('matplotlib.figure.Figure.ginput() \\\n",
    "function Example', fontweight=\"bold\")\n",
    "  \n",
    "print(\"After 2 clicks :\")\n",
    "axes.imshow(x1)\n",
    "x= fig.ginput(2) \n",
    "print(x)\n",
    "  \n",
    "plt.show()"
   ]
  },
  {
   "cell_type": "markdown",
   "metadata": {},
   "source": [
    "---\n",
    "HRL"
   ]
  }
 ],
 "metadata": {
  "kernelspec": {
   "display_name": "Python 3",
   "language": "python",
   "name": "python3"
  },
  "language_info": {
   "codemirror_mode": {
    "name": "ipython",
    "version": 3
   },
   "file_extension": ".py",
   "mimetype": "text/x-python",
   "name": "python",
   "nbconvert_exporter": "python",
   "pygments_lexer": "ipython3",
   "version": "3.8.5"
  }
 },
 "nbformat": 4,
 "nbformat_minor": 4
}
