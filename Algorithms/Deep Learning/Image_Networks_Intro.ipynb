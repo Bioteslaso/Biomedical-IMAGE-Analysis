{
 "cells": [
  {
   "cell_type": "markdown",
   "metadata": {
    "id": "rX8mhOLljYeM"
   },
   "source": [
    "##### Copyright 2019 The TensorFlow Authors."
   ]
  },
  {
   "cell_type": "code",
   "execution_count": null,
   "metadata": {
    "cellView": "form",
    "id": "BZSlp3DAjdYf"
   },
   "outputs": [],
   "source": [
    "#@title Licensed under the Apache License, Version 2.0 (the \"License\");\n",
    "# you may not use this file except in compliance with the License.\n",
    "# You may obtain a copy of the License at\n",
    "#\n",
    "# https://www.apache.org/licenses/LICENSE-2.0\n",
    "#\n",
    "# Unless required by applicable law or agreed to in writing, software\n",
    "# distributed under the License is distributed on an \"AS IS\" BASIS,\n",
    "# WITHOUT WARRANTIES OR CONDITIONS OF ANY KIND, either express or implied.\n",
    "# See the License for the specific language governing permissions and\n",
    "# limitations under the License."
   ]
  },
  {
   "cell_type": "markdown",
   "metadata": {
    "id": "3wF5wszaj97Y"
   },
   "source": [
    "# Networks for Image Classification\n",
    "\n"
   ]
  },
  {
   "cell_type": "markdown",
   "metadata": {
    "id": "DUNzJc4jTj6G"
   },
   "source": [
    "<table class=\"tfo-notebook-buttons\" align=\"left\">\n",
    "  <td>\n",
    "    <a target=\"_blank\" href=\"https://www.tensorflow.org/tutorials/quickstart/beginner\"><img src=\"https://www.tensorflow.org/images/tf_logo_32px.png\" />View on TensorFlow.org</a>\n",
    "  </td>\n",
    "  <td>\n",
    "    <a target=\"_blank\" href=\"https://colab.research.google.com/github/tensorflow/docs/blob/master/site/en/tutorials/quickstart/beginner.ipynb\"><img src=\"https://www.tensorflow.org/images/colab_logo_32px.png\" />Run in Google Colab</a>\n",
    "  </td>\n",
    "  <td>\n",
    "    <a target=\"_blank\" href=\"https://github.com/tensorflow/docs/blob/master/site/en/tutorials/quickstart/beginner.ipynb\"><img src=\"https://www.tensorflow.org/images/GitHub-Mark-32px.png\" />View source on GitHub</a>\n",
    "  </td>\n",
    "  <td>\n",
    "    <a href=\"https://storage.googleapis.com/tensorflow_docs/docs/site/en/tutorials/quickstart/beginner.ipynb\"><img src=\"https://www.tensorflow.org/images/download_logo_32px.png\" />Download notebook</a>\n",
    "  </td>\n",
    "</table>"
   ]
  },
  {
   "cell_type": "markdown",
   "metadata": {
    "id": "04QgGZc9bF5D"
   },
   "source": [
    "\n",
    "\n",
    "```\n",
    "# This is formatted as code\n",
    "```\n",
    "\n",
    "In this exercise we will use [Keras](https://www.tensorflow.org/guide/keras/overview) to:\n",
    "\n",
    "1. Build a neural network to classify images.\n",
    "2. Train and evaluate the precision of the network.\n",
    "3. Build a convolutional network.\n",
    "4. Learn the concepts of data augmentation and batch processing."
   ]
  },
  {
   "cell_type": "markdown",
   "metadata": {
    "id": "hiH7AC-NTniF"
   },
   "source": [
    "This is a [Google Colaboratory](https://colab.research.google.com/notebooks/welcome.ipynb) notebook file. Python programs are run directly in the browser—a great way to learn and use TensorFlow. To follow this tutorial, run the notebook in Google Colab by clicking the button at the top of this page.\n",
    "\n",
    "1. In Colab, connect to a Python runtime: At the top-right of the menu bar, select *CONNECT*.\n",
    "2. Run all the notebook code cells: Select *Runtime* > *Run all*."
   ]
  },
  {
   "cell_type": "markdown",
   "metadata": {
    "id": "nnrWf3PCEzXL"
   },
   "source": [
    "We'll start by installing TensorFlow, Keras and other libraries required:\n",
    "\n",
    "\n"
   ]
  },
  {
   "cell_type": "code",
   "execution_count": 49,
   "metadata": {
    "id": "0trJmd6DjqBZ"
   },
   "outputs": [
    {
     "name": "stdout",
     "output_type": "stream",
     "text": [
      "The tensorboard extension is already loaded. To reload it, use:\n",
      "  %reload_ext tensorboard\n"
     ]
    }
   ],
   "source": [
    "%load_ext tensorboard\n",
    "from __future__ import absolute_import, division, print_function, unicode_literals\n",
    "\n",
    "# Install TensorFlow\n",
    "try:\n",
    "  # %tensorflow_version only exists in Colab.\n",
    "  %tensorflow_version 2.x\n",
    "except Exception:\n",
    "  pass\n",
    "\n",
    "import tensorflow as tf\n",
    "import tensorboard\n",
    "from tensorflow import keras\n",
    "from keras.preprocessing.image import ImageDataGenerator\n",
    "import matplotlib.pyplot as plt\n",
    "#from datetime import datetime\n",
    "import datetime, os\n",
    "import numpy as np\n",
    "import random\n",
    "import pandas as pd\n",
    "from PIL import Image\n",
    "from numpy import array"
   ]
  },
  {
   "cell_type": "code",
   "execution_count": 42,
   "metadata": {},
   "outputs": [],
   "source": []
  },
  {
   "cell_type": "markdown",
   "metadata": {},
   "source": [
    "### Paths"
   ]
  },
  {
   "cell_type": "code",
   "execution_count": 74,
   "metadata": {},
   "outputs": [],
   "source": [
    "PATH= r\"C:\\Users\\pablo\\DB\\OneDrive - Universidad Rey Juan Carlos\\BME-Madrid\\4th_year\\Semester_1\\MIA-Medical_IMAGE_Analysis\\Lab-Projects\\P4-DeepLearning\"\n",
    "PATH_images= r\"C:\\Users\\pablo\\DB\\OneDrive - Universidad Rey Juan Carlos\\BME-Madrid\\4th_year\\Semester_1\\MIA-Medical_IMAGE_Analysis\\Lab-Projects\\P4-DeepLearning\\head_ct\\head_ct\"\n",
    "PATH_new_images= r\"C:\\Users\\pablo\\DB\\OneDrive - Universidad Rey Juan Carlos\\BME-Madrid\\4th_year\\Semester_1\\MIA-Medical_IMAGE_Analysis\\Lab-Projects\\P4-DeepLearning\\head_ct\\new_head_ct\"\n",
    "image_list= os.listdir(PATH_images)"
   ]
  },
  {
   "cell_type": "markdown",
   "metadata": {},
   "source": [
    "### List labels and ids"
   ]
  },
  {
   "cell_type": "code",
   "execution_count": 38,
   "metadata": {},
   "outputs": [],
   "source": [
    "df = pd.read_csv(os.path.join(PATH,'labels.csv'))\n",
    "df.dtypes\n",
    "df.head()\n",
    "id_list=[]\n",
    "label_list=[]\n",
    "for index,row in df.iterrows():\n",
    "    id_list.append(row[0])\n",
    "    label_list.append(row[1])"
   ]
  },
  {
   "cell_type": "markdown",
   "metadata": {},
   "source": [
    "### Images features"
   ]
  },
  {
   "cell_type": "code",
   "execution_count": 54,
   "metadata": {},
   "outputs": [
    {
     "data": {
      "text/plain": [
       "1"
      ]
     },
     "execution_count": 54,
     "metadata": {},
     "output_type": "execute_result"
    }
   ],
   "source": [
    "for current_image in image_list:\n",
    "    image_array = array([Image.open(os.path.join(PATH_images,f), 'r').size for f in image_list])\n",
    "    image_array = array([Image.open(os.path.join(PATH_images,f), 'r').size for f in image_list])\n",
    "image_array.argmax()"
   ]
  },
  {
   "cell_type": "code",
   "execution_count": 65,
   "metadata": {},
   "outputs": [
    {
     "data": {
      "text/plain": [
       "(355.505, 433.72)"
      ]
     },
     "execution_count": 65,
     "metadata": {},
     "output_type": "execute_result"
    }
   ],
   "source": [
    "int(np.mean(image_array[:,0])), int(np.mean(image_array[:,1]))"
   ]
  },
  {
   "cell_type": "code",
   "execution_count": 75,
   "metadata": {},
   "outputs": [],
   "source": [
    "for current_image in image_list:\n",
    "    img = Image.open(os.path.join(PATH_images,current_image), 'r')\n",
    "    img = img.resize((int(np.mean(image_array[:,0])), int(np.mean(image_array[:,1]))),Image.NEAREST)#, Image.ANTIALIAS)#####\n",
    "    img.save(os.path.join(PATH_new_images,current_image))"
   ]
  },
  {
   "cell_type": "code",
   "execution_count": 77,
   "metadata": {},
   "outputs": [
    {
     "data": {
      "text/plain": [
       "1"
      ]
     },
     "execution_count": 77,
     "metadata": {},
     "output_type": "execute_result"
    }
   ],
   "source": [
    "for current_image in image_list:\n",
    "    image_array = array([Image.open(os.path.join(PATH_new_images,f), 'r').size for f in image_list])\n",
    "    image_array = array([Image.open(os.path.join(PATH_new_images,f), 'r').size for f in image_list])\n",
    "image_array.argmax()"
   ]
  },
  {
   "cell_type": "code",
   "execution_count": null,
   "metadata": {},
   "outputs": [],
   "source": []
  },
  {
   "cell_type": "code",
   "execution_count": null,
   "metadata": {},
   "outputs": [],
   "source": []
  },
  {
   "cell_type": "markdown",
   "metadata": {
    "id": "7NAbSZiaoJ4z"
   },
   "source": [
    "We load and prepare the database [MNIST](http://yann.lecun.com/exdb/mnist/). We convert the images from integer to floating point:"
   ]
  },
  {
   "cell_type": "code",
   "execution_count": null,
   "metadata": {
    "id": "7FP5258xjs-v"
   },
   "outputs": [],
   "source": [
    "mnist = tf.keras.datasets.mnist\n",
    "\n",
    "(x_train, y_train), (x_test, y_test) = mnist.load_data()\n",
    "x_train, x_test = x_train / 255.0, x_test / 255.0"
   ]
  },
  {
   "cell_type": "markdown",
   "metadata": {
    "id": "-iRVALJEB0PH"
   },
   "source": [
    "The database consists of 28x28 pixel images representing handwritten digits. \n",
    "Let's visualize some of the images and their labels, to see how they look."
   ]
  },
  {
   "cell_type": "code",
   "execution_count": null,
   "metadata": {
    "id": "4y-lYQIpCE_T"
   },
   "outputs": [],
   "source": [
    "plt.figure(figsize=(10,10))\n",
    "random_inds = np.random.choice(60000,36)\n",
    "for i in range(36):\n",
    "    plt.subplot(6,6,i+1)\n",
    "    plt.xticks([])\n",
    "    plt.yticks([])\n",
    "    plt.grid(False)\n",
    "    image_ind = random_inds[i]\n",
    "    plt.imshow(np.squeeze(x_train[image_ind]), cmap=plt.cm.binary)\n",
    "    plt.xlabel(y_train[image_ind])"
   ]
  },
  {
   "cell_type": "markdown",
   "metadata": {
    "id": "eptZpctoWyMi"
   },
   "source": [
    "Let's see one of the digits in more detail\n",
    "\n"
   ]
  },
  {
   "cell_type": "code",
   "execution_count": null,
   "metadata": {
    "id": "CyETWGxYW2A7"
   },
   "outputs": [],
   "source": [
    "# just a little function for pretty printing a matrix\n",
    "def matprint(mat, fmt=\"g\"):\n",
    "    col_maxes = [max([len((\"{:\"+fmt+\"}\").format(x)) for x in col]) for col in mat.T]\n",
    "    for x in mat:\n",
    "        for i, y in enumerate(x):\n",
    "            print((\"{:\"+str(col_maxes[i])+fmt+\"}\").format(y), end=\"  \")\n",
    "        print(\"\")\n",
    "\n",
    "# now print!       \n",
    "\n",
    "matprint(x_train[image_ind])"
   ]
  },
  {
   "cell_type": "markdown",
   "metadata": {
    "id": "DOLRsOU_Df4V"
   },
   "source": [
    "## 1.2 Neural network for classification of handwritten digits\n",
    "First we will build a simple neural network consisting of two fully connected layers and apply this to the digit classification task. Our network will eventually generate a probability distribution over the 10-digit classes (0-9). This first architecture is shown below:\n",
    "![alt text](https://drive.google.com/uc?id=1Vv85zm3n6ypGDlzXA2tlpbi9f9BQZRSf)\n"
   ]
  },
  {
   "cell_type": "markdown",
   "metadata": {
    "id": "BPZ68wASog_I"
   },
   "source": [
    "Using the 'tf.keras.Sequential' function we can create a network by adding layers to the model. The model.summary function allows us to see the details of the created model .\n"
   ]
  },
  {
   "cell_type": "code",
   "execution_count": null,
   "metadata": {
    "id": "h3IKyzTCDNGo"
   },
   "outputs": [],
   "source": [
    "model = tf.keras.models.Sequential([\n",
    "  tf.keras.layers.Flatten(input_shape=(28, 28)),\n",
    "  tf.keras.layers.Dense(128, activation='relu'),\n",
    "  tf.keras.layers.Dropout(0.2),\n",
    "  tf.keras.layers.Dense(10, activation='softmax')\n",
    "])\n",
    "model.summary()"
   ]
  },
  {
   "cell_type": "markdown",
   "metadata": {
    "id": "EI2FBFJqCiHd"
   },
   "source": [
    "Once created, we compile the model, chossing the cost-function and the optimizer that we will use to train it."
   ]
  },
  {
   "cell_type": "code",
   "execution_count": null,
   "metadata": {
    "id": "ygTblRAVCq9c"
   },
   "outputs": [],
   "source": [
    "model.compile(optimizer='adam',\n",
    "              loss='sparse_categorical_crossentropy',\n",
    "              metrics=['accuracy'])"
   ]
  },
  {
   "cell_type": "markdown",
   "metadata": {
    "id": "ix4mEL65on-w"
   },
   "source": [
    "We train and evaluate the model:"
   ]
  },
  {
   "cell_type": "code",
   "execution_count": null,
   "metadata": {
    "id": "F7dTAzgHDUh7"
   },
   "outputs": [],
   "source": [
    "# Definition of the callback for TensorBoard.\n",
    "logdir = os.path.join(\"logs\", datetime.datetime.now().strftime(\"%Y%m%d-%H%M%S\"))\n",
    "tensorboard_callback = tf.keras.callbacks.TensorBoard(logdir, histogram_freq=1)\n",
    "\n",
    "#model.fit(x_train, y_train, epochs=5)\n",
    "#Versión con salida a Tensorboard\n",
    "model.fit(x_train, y_train, epochs=5,callbacks=[tensorboard_callback])\n",
    "model.evaluate(x_test,  y_test, verbose=2)"
   ]
  },
  {
   "cell_type": "markdown",
   "metadata": {
    "id": "T4JfEh7kvx6m"
   },
   "source": [
    "The image classifier has already been trained up to an accuracy of 98% in this dataset.\n",
    "\n"
   ]
  },
  {
   "cell_type": "code",
   "execution_count": null,
   "metadata": {
    "id": "XPaaW97DRM9_"
   },
   "outputs": [],
   "source": [
    "%tensorboard --logdir logs  # Llamada a Tensorboard"
   ]
  },
  {
   "cell_type": "markdown",
   "metadata": {
    "id": "h140JiEckJ3j"
   },
   "source": [
    "# Checking the result\n",
    "It is always useful to look at some results, to get an idea of when the network fails. With the following code, we show some examples where the network has succeeded and others where it failed."
   ]
  },
  {
   "cell_type": "code",
   "execution_count": null,
   "metadata": {
    "id": "qWvsUi8DkSTI"
   },
   "outputs": [],
   "source": [
    "# The predict_classes function outputs the highest probability class\n",
    "# according to the trained classifier for each input example.\n",
    "#predicted_classes = model.predict_classes(x_test)\n",
    "predicted_classes = np.argmax(model.predict(x_test), axis=-1)\n",
    "# Check which items we got right / wrong\n",
    "correct_indices = np.nonzero(predicted_classes == y_test)[0]\n",
    "\n",
    "incorrect_indices = np.nonzero(predicted_classes != y_test)[0]"
   ]
  },
  {
   "cell_type": "code",
   "execution_count": null,
   "metadata": {
    "id": "NskSJGBfkZZf"
   },
   "outputs": [],
   "source": [
    "plt.figure()\n",
    "for i, correct in enumerate(correct_indices[:9]):\n",
    "    plt.subplot(3,3,i+1)\n",
    "    plt.imshow(x_test[correct].reshape(28,28), cmap='gray', interpolation='none')\n",
    "    plt.title(\"Predicted {}, Class {}\".format(predicted_classes[correct], y_test[correct]))\n",
    "    \n",
    "plt.tight_layout()\n",
    "    \n",
    "plt.figure()\n",
    "for i, incorrect in enumerate(incorrect_indices[:9]):\n",
    "    plt.subplot(3,3,i+1)\n",
    "    plt.imshow(x_test[incorrect].reshape(28,28), cmap='gray', interpolation='none')\n",
    "    plt.title(\"Predicted {}, Class {}\".format(predicted_classes[incorrect], y_test[incorrect]))\n",
    "    \n",
    "plt.tight_layout()"
   ]
  },
  {
   "cell_type": "markdown",
   "metadata": {
    "id": "09EggiKSPBW1"
   },
   "source": [
    "## 1.2 Convolutional Neural Network\n",
    "We are now going to classify the data using a CNN.\n",
    "To do that, we must reformat the input images, as the network expects a x*y*z image as input (z being the number of channels)"
   ]
  },
  {
   "cell_type": "code",
   "execution_count": null,
   "metadata": {
    "id": "cA37UCnbUt0o"
   },
   "outputs": [],
   "source": [
    "x_train = x_train.reshape(60000, 28, 28, 1)\n",
    "x_test = x_test.reshape(10000, 28, 28, 1)\n",
    "print(\"Training matrix shape\", x_train.shape)\n",
    "print(\"Testing matrix shape\", x_test.shape)"
   ]
  },
  {
   "cell_type": "markdown",
   "metadata": {
    "id": "OAqwyZV9D8fH"
   },
   "source": [
    "Now, using Sequential, we crear a convolutional network, we compile it and we train it"
   ]
  },
  {
   "cell_type": "code",
   "execution_count": null,
   "metadata": {
    "id": "O1-zW1zYPIhm"
   },
   "outputs": [],
   "source": [
    "cnn_model = tf.keras.Sequential([\n",
    "\n",
    "        tf.keras.layers.Conv2D(filters=24, kernel_size=(3,3), input_shape=(28, 28,1), activation=tf.nn.relu,name='ConvLayer01'),       \n",
    "\n",
    "        tf.keras.layers.MaxPool2D(pool_size=(2,2), strides=2,padding='valid'),\n",
    "        tf.keras.layers.Dropout(0.2),\n",
    "\n",
    "        tf.keras.layers.Conv2D(filters=24, kernel_size=(3,3)),\n",
    "        tf.keras.layers.MaxPool2D(pool_size=(2,2), strides=2,padding='valid'),\n",
    "        tf.keras.layers.Dropout(0.2),\n",
    "\n",
    "        tf.keras.layers.Flatten(),\n",
    "        tf.keras.layers.Dense(128, activation=tf.nn.relu),\n",
    "    \n",
    "        tf.keras.layers.Dense(10, activation='softmax')\n",
    "    ])"
   ]
  },
  {
   "cell_type": "code",
   "execution_count": null,
   "metadata": {
    "id": "mp8SyXj4f6BI"
   },
   "outputs": [],
   "source": [
    "cnn_model.summary()"
   ]
  },
  {
   "cell_type": "code",
   "execution_count": null,
   "metadata": {
    "id": "combYN6xRolv"
   },
   "outputs": [],
   "source": [
    "cnn_model.compile(optimizer='adam',\n",
    "              loss='sparse_categorical_crossentropy',\n",
    "              metrics=['accuracy'])"
   ]
  },
  {
   "cell_type": "code",
   "execution_count": null,
   "metadata": {
    "id": "qAzE8UmZRQT2"
   },
   "outputs": [],
   "source": [
    "cnn_model.fit(x_train, y_train, epochs=1)\n",
    "\n",
    "cnn_model.evaluate(x_test,  y_test, verbose=2)"
   ]
  },
  {
   "cell_type": "markdown",
   "metadata": {
    "id": "y1sHLNUqyRcg"
   },
   "source": [
    "## Data Augmentation\n",
    "Let's increase the database using Data Augmentation. This can be useful for increasing the number of samples, or for preventing overfitting, by applying random variations to the data"
   ]
  },
  {
   "cell_type": "code",
   "execution_count": null,
   "metadata": {
    "id": "I6Wy5q2DyYcw"
   },
   "outputs": [],
   "source": [
    "# Keras includes a function to perform data augmentation\n",
    "\n",
    "gen = ImageDataGenerator(rotation_range=8, width_shift_range=0.08, shear_range=0.3,\n",
    "                         height_shift_range=0.08, zoom_range=0.08)\n",
    "\n",
    "test_gen = ImageDataGenerator()"
   ]
  },
  {
   "cell_type": "markdown",
   "metadata": {
    "id": "kGJBtwWIy9yS"
   },
   "source": [
    "We can now introduce the augmented data in batches\n"
   ]
  },
  {
   "cell_type": "code",
   "execution_count": null,
   "metadata": {
    "id": "MDy0KpOXzGO-"
   },
   "outputs": [],
   "source": [
    "train_generator = gen.flow(x_train, y_train, batch_size=128)\n",
    "test_generator = test_gen.flow(x_test, y_test, batch_size=128)"
   ]
  },
  {
   "cell_type": "markdown",
   "metadata": {
    "id": "HbyGGtXR0uTD"
   },
   "source": [
    "And we adjust the model using the batch loader. This reduces a lot the memory needed for training"
   ]
  },
  {
   "cell_type": "code",
   "execution_count": null,
   "metadata": {
    "id": "TlAi0nT10-hC"
   },
   "outputs": [],
   "source": [
    "cnn_model.fit_generator(train_generator, steps_per_epoch=60000//128, epochs=5, verbose=1, \n",
    "                    validation_data=test_generator, validation_steps=10000//128)"
   ]
  }
 ],
 "metadata": {
  "colab": {
   "collapsed_sections": [
    "rX8mhOLljYeM"
   ],
   "name": "Image_Networks_Intro.ipynb",
   "private_outputs": true,
   "provenance": [
    {
     "file_id": "1r_b1FdPz7eG619uVwAKAld-DyENOS-n-",
     "timestamp": 1606303141330
    }
   ]
  },
  "kernelspec": {
   "display_name": "Python 3",
   "language": "python",
   "name": "python3"
  },
  "language_info": {
   "codemirror_mode": {
    "name": "ipython",
    "version": 3
   },
   "file_extension": ".py",
   "mimetype": "text/x-python",
   "name": "python",
   "nbconvert_exporter": "python",
   "pygments_lexer": "ipython3",
   "version": "3.7.9"
  }
 },
 "nbformat": 4,
 "nbformat_minor": 1
}
